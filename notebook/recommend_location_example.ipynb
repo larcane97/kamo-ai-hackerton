{
 "cells": [
  {
   "cell_type": "code",
   "execution_count": 17,
   "metadata": {
    "collapsed": true
   },
   "outputs": [],
   "source": [
    "import os\n",
    "import pandas as pd\n",
    "from langchain.schema import SystemMessage, HumanMessage, AIMessage\n",
    "from langchain.prompts import ChatPromptTemplate\n",
    "from langchain.chat_models import AzureChatOpenAI"
   ]
  },
  {
   "cell_type": "code",
   "execution_count": 18,
   "outputs": [],
   "source": [
    "os.environ[\"OPENAI_API_TYPE\"] = \"--\"\n",
    "os.environ[\"OPENAI_API_BASE\"] = \"--\"\n",
    "os.environ[\"OPENAI_API_KEY\"] = \"--\"\n",
    "os.environ[\"OPENAI_API_VERSION\"] = \"--\""
   ],
   "metadata": {
    "collapsed": false
   }
  },
  {
   "cell_type": "markdown",
   "source": [
    "### 데이터 로드"
   ],
   "metadata": {
    "collapsed": false
   }
  },
  {
   "cell_type": "code",
   "execution_count": 5,
   "outputs": [],
   "source": [
    "df = pd.read_csv(\"./data/poi_review.csv\")"
   ],
   "metadata": {
    "collapsed": false
   }
  },
  {
   "cell_type": "markdown",
   "source": [
    "### 데이터 필터링"
   ],
   "metadata": {
    "collapsed": false
   }
  },
  {
   "cell_type": "code",
   "execution_count": 7,
   "outputs": [],
   "source": [
    "def get_categories(fullpath):\n",
    "    categories = []\n",
    "    splited = list(map(str.strip, fullpath.split(\">\")))\n",
    "    for s in splited:\n",
    "        s = s.strip()\n",
    "        if s == \"\":\n",
    "            continue\n",
    "\n",
    "        categories_ = list(map(str.strip, s.split(\",\")))\n",
    "\n",
    "        categories.extend(categories_)\n",
    "\n",
    "    return categories"
   ],
   "metadata": {
    "collapsed": false
   }
  },
  {
   "cell_type": "code",
   "execution_count": 8,
   "outputs": [],
   "source": [
    "filtered_df = df[df['reviews'].apply(lambda x: isinstance(x, str) and str(x).strip() != '')]\n",
    "filtered_df[\"scores\"] = filtered_df[\"scores\"].apply(eval)\n",
    "filtered_df = filtered_df[filtered_df[\"scores\"].apply(sum) / filtered_df[\"scores\"].apply(len) >= 3.5]\n",
    "filtered_df = filtered_df[filtered_df[\"reviews\"].apply(len) > 50]\n",
    "filtered_df[\"reviews\"] = filtered_df[\"reviews\"].apply(lambda x : x[1:-1])\n",
    "filtered_df[\"categories\"] = filtered_df[\"fullpath\"].apply(get_categories)"
   ],
   "metadata": {
    "collapsed": false
   }
  },
  {
   "cell_type": "code",
   "execution_count": 9,
   "outputs": [
    {
     "data": {
      "text/plain": "        poi_id poi_name  visit_count       hcode hname1 hname2       hname3  \\\n5      9107967    서적백화점          108  1168067000  서울특별시    강남구         개포2동   \n7     14542282  알라딘중고서점          136  1111061500  서울특별시    종로구  종로1.2.3.4가동   \n8    434486987  알라딘중고서점           75  1130559500  서울특별시    강북구          번1동   \n10    19511091  알라딘중고서점           46  1162064500  서울특별시    관악구          서원동   \n11  1794507908    서울책보고          114  1171071000  서울특별시    송파구         잠실6동   \n\n    cate_id          fullpath catename  ... landmarkyn  name1 name2 name3  \\\n5     212.0       문화,예술>도서>서점       서점  ...          N  문화,예술    도서    서점   \n7     880.0  문화,예술>도서>서점>중고서점     중고서점  ...          N  문화,예술    도서    서점   \n8     880.0  문화,예술>도서>서점>중고서점     중고서점  ...          N  문화,예술    도서    서점   \n10    880.0  문화,예술>도서>서점>중고서점     중고서점  ...          N  문화,예술    도서    서점   \n11    880.0  문화,예술>도서>서점>중고서점     중고서점  ...          N  문화,예술    도서    서점   \n\n   name4 name5                                          time_list  \\\n5    NaN   NaN  [{\"periodEtc\":null,\"periodName\":\"영업기간\",\"timeLi...   \n7   중고서점   NaN  [{\"periodEtc\":null,\"periodName\":\"영업기간\",\"timeLi...   \n8   중고서점   NaN  [{\"periodEtc\":null,\"periodName\":\"영업기간\",\"timeLi...   \n10  중고서점   NaN  [{\"periodEtc\":null,\"periodName\":\"영업기간\",\"timeLi...   \n11  중고서점   NaN  [{\"periodEtc\":null,\"periodName\":\"영업기간\",\"timeLi...   \n\n                                              scores  \\\n5                                 [4, 5, 1, 5, 5, 5]   \n7   [5, 4, 2, 5, 3, 4, 5, 5, 5, 5, 1, 4, 5, 1, 2, 1]   \n8                           [5, 5, 5, 5, 5, 5, 4, 1]   \n10     [5, 5, 1, 4, 5, 5, 5, 5, 5, 5, 5, 5, 2, 4, 4]   \n11  [1, 5, 5, 5, 5, 5, 1, 5, 5, 5, 1, 4, 5, 5, 3, 1]   \n\n                                              reviews              categories  \n5   대치 학원가에서 사용하는 모든 교재는 여기에 다 있어요. 책 찾아달라고 말씀 드리면...        [문화, 예술, 도서, 서점]  \n7   책 판매하러 갔는데 직원분들 엄청 친절하세요. 남/여 두분 다 너무 친절했어요. 주...  [문화, 예술, 도서, 서점, 중고서점]  \n8   ,전에 카페도 있었을 때가 더 좋았지만!,좋아요,친절하고 깔금하고 왠만한 책들은 다...  [문화, 예술, 도서, 서점, 중고서점]  \n10  책 많고 직원분이 친절하십니다,매장이 크고 깨끗해서 좋아보였음.,알라딘 온라인으로 ...  [문화, 예술, 도서, 서점, 중고서점]  \n11  직원들은 무례합니다,책이 다양하게 있진 않지만 조용하고 분위기가 좋아요 인스타그램에...  [문화, 예술, 도서, 서점, 중고서점]  \n\n[5 rows x 23 columns]",
      "text/html": "<div>\n<style scoped>\n    .dataframe tbody tr th:only-of-type {\n        vertical-align: middle;\n    }\n\n    .dataframe tbody tr th {\n        vertical-align: top;\n    }\n\n    .dataframe thead th {\n        text-align: right;\n    }\n</style>\n<table border=\"1\" class=\"dataframe\">\n  <thead>\n    <tr style=\"text-align: right;\">\n      <th></th>\n      <th>poi_id</th>\n      <th>poi_name</th>\n      <th>visit_count</th>\n      <th>hcode</th>\n      <th>hname1</th>\n      <th>hname2</th>\n      <th>hname3</th>\n      <th>cate_id</th>\n      <th>fullpath</th>\n      <th>catename</th>\n      <th>...</th>\n      <th>landmarkyn</th>\n      <th>name1</th>\n      <th>name2</th>\n      <th>name3</th>\n      <th>name4</th>\n      <th>name5</th>\n      <th>time_list</th>\n      <th>scores</th>\n      <th>reviews</th>\n      <th>categories</th>\n    </tr>\n  </thead>\n  <tbody>\n    <tr>\n      <th>5</th>\n      <td>9107967</td>\n      <td>서적백화점</td>\n      <td>108</td>\n      <td>1168067000</td>\n      <td>서울특별시</td>\n      <td>강남구</td>\n      <td>개포2동</td>\n      <td>212.0</td>\n      <td>문화,예술&gt;도서&gt;서점</td>\n      <td>서점</td>\n      <td>...</td>\n      <td>N</td>\n      <td>문화,예술</td>\n      <td>도서</td>\n      <td>서점</td>\n      <td>NaN</td>\n      <td>NaN</td>\n      <td>[{\"periodEtc\":null,\"periodName\":\"영업기간\",\"timeLi...</td>\n      <td>[4, 5, 1, 5, 5, 5]</td>\n      <td>대치 학원가에서 사용하는 모든 교재는 여기에 다 있어요. 책 찾아달라고 말씀 드리면...</td>\n      <td>[문화, 예술, 도서, 서점]</td>\n    </tr>\n    <tr>\n      <th>7</th>\n      <td>14542282</td>\n      <td>알라딘중고서점</td>\n      <td>136</td>\n      <td>1111061500</td>\n      <td>서울특별시</td>\n      <td>종로구</td>\n      <td>종로1.2.3.4가동</td>\n      <td>880.0</td>\n      <td>문화,예술&gt;도서&gt;서점&gt;중고서점</td>\n      <td>중고서점</td>\n      <td>...</td>\n      <td>N</td>\n      <td>문화,예술</td>\n      <td>도서</td>\n      <td>서점</td>\n      <td>중고서점</td>\n      <td>NaN</td>\n      <td>[{\"periodEtc\":null,\"periodName\":\"영업기간\",\"timeLi...</td>\n      <td>[5, 4, 2, 5, 3, 4, 5, 5, 5, 5, 1, 4, 5, 1, 2, 1]</td>\n      <td>책 판매하러 갔는데 직원분들 엄청 친절하세요. 남/여 두분 다 너무 친절했어요. 주...</td>\n      <td>[문화, 예술, 도서, 서점, 중고서점]</td>\n    </tr>\n    <tr>\n      <th>8</th>\n      <td>434486987</td>\n      <td>알라딘중고서점</td>\n      <td>75</td>\n      <td>1130559500</td>\n      <td>서울특별시</td>\n      <td>강북구</td>\n      <td>번1동</td>\n      <td>880.0</td>\n      <td>문화,예술&gt;도서&gt;서점&gt;중고서점</td>\n      <td>중고서점</td>\n      <td>...</td>\n      <td>N</td>\n      <td>문화,예술</td>\n      <td>도서</td>\n      <td>서점</td>\n      <td>중고서점</td>\n      <td>NaN</td>\n      <td>[{\"periodEtc\":null,\"periodName\":\"영업기간\",\"timeLi...</td>\n      <td>[5, 5, 5, 5, 5, 5, 4, 1]</td>\n      <td>,전에 카페도 있었을 때가 더 좋았지만!,좋아요,친절하고 깔금하고 왠만한 책들은 다...</td>\n      <td>[문화, 예술, 도서, 서점, 중고서점]</td>\n    </tr>\n    <tr>\n      <th>10</th>\n      <td>19511091</td>\n      <td>알라딘중고서점</td>\n      <td>46</td>\n      <td>1162064500</td>\n      <td>서울특별시</td>\n      <td>관악구</td>\n      <td>서원동</td>\n      <td>880.0</td>\n      <td>문화,예술&gt;도서&gt;서점&gt;중고서점</td>\n      <td>중고서점</td>\n      <td>...</td>\n      <td>N</td>\n      <td>문화,예술</td>\n      <td>도서</td>\n      <td>서점</td>\n      <td>중고서점</td>\n      <td>NaN</td>\n      <td>[{\"periodEtc\":null,\"periodName\":\"영업기간\",\"timeLi...</td>\n      <td>[5, 5, 1, 4, 5, 5, 5, 5, 5, 5, 5, 5, 2, 4, 4]</td>\n      <td>책 많고 직원분이 친절하십니다,매장이 크고 깨끗해서 좋아보였음.,알라딘 온라인으로 ...</td>\n      <td>[문화, 예술, 도서, 서점, 중고서점]</td>\n    </tr>\n    <tr>\n      <th>11</th>\n      <td>1794507908</td>\n      <td>서울책보고</td>\n      <td>114</td>\n      <td>1171071000</td>\n      <td>서울특별시</td>\n      <td>송파구</td>\n      <td>잠실6동</td>\n      <td>880.0</td>\n      <td>문화,예술&gt;도서&gt;서점&gt;중고서점</td>\n      <td>중고서점</td>\n      <td>...</td>\n      <td>N</td>\n      <td>문화,예술</td>\n      <td>도서</td>\n      <td>서점</td>\n      <td>중고서점</td>\n      <td>NaN</td>\n      <td>[{\"periodEtc\":null,\"periodName\":\"영업기간\",\"timeLi...</td>\n      <td>[1, 5, 5, 5, 5, 5, 1, 5, 5, 5, 1, 4, 5, 5, 3, 1]</td>\n      <td>직원들은 무례합니다,책이 다양하게 있진 않지만 조용하고 분위기가 좋아요 인스타그램에...</td>\n      <td>[문화, 예술, 도서, 서점, 중고서점]</td>\n    </tr>\n  </tbody>\n</table>\n<p>5 rows × 23 columns</p>\n</div>"
     },
     "execution_count": 9,
     "metadata": {},
     "output_type": "execute_result"
    }
   ],
   "source": [
    "filtered_df.head(5)"
   ],
   "metadata": {
    "collapsed": false
   }
  },
  {
   "cell_type": "code",
   "execution_count": 10,
   "outputs": [],
   "source": [
    "food_shop_df =  filtered_df[filtered_df[\"categories\"].apply(lambda x : \"음식점\" in x)]"
   ],
   "metadata": {
    "collapsed": false
   }
  },
  {
   "cell_type": "markdown",
   "source": [
    "### 모델 선언"
   ],
   "metadata": {
    "collapsed": false
   }
  },
  {
   "cell_type": "code",
   "execution_count": 12,
   "outputs": [],
   "source": [
    "from langchain.schema import SystemMessage, HumanMessage, AIMessage\n",
    "\n",
    "review_summarize_system_template = \"\"\"\n",
    "너는 \"리뷰묶음\"을 받아서 리뷰를 요약해주는 AI모델이야.\n",
    "너는 입력으로 가게의 \"리뷰묶음\" 정보를 입력받아서 해당 리뷰를 요약해주는 문장을 생성해야 해.\n",
    "이때 리뷰에서 부정적인 내용, 가게에 좋지 않은 내용, 기분이 나쁜 내용들은 절대로 리뷰 내용에 포함하지 말아야 해.\n",
    "또한 \"리뷰묶음\"에 포함되어 있지 않았던 정보는 포함되면 안 돼.\n",
    "그리고 추가적으로 리뷰 요약과 리뷰 내용을 통해 다음과 같은 내용 중 한 가지를 유츄해 선택해야 해\n",
    "- \"사람들이 주로 방문하는 시간대\", \"사람들이 주로 같이 방문하는 인원\", \"식당의 분위기\", \"식당 메뉴\"\n",
    "이때 주어진 리뷰를 기반으로 위의 정보들을 알 수 없는 경우에는 \"알 수 없음\"으로 응답해야 해\n",
    "\"\"\"\n",
    "\n",
    "review_summarize_question_example1 = \"\"\"\n",
    "[입력] :\n",
    "- 가게 이름 : 달콤왕가탕후루\n",
    "- 가게 위치 : 서울특별시 성동구 행당2동\n",
    "- 카테고리 : [음식점, 간식]\n",
    "- 리뷰 묶음 : 정말 맛있습니다. 또 방문하겠읍니다.,가성비 짱짱!!! 우리동네 맛집입니다^^매일 가고 싶네요 ^^,귤탕후루, 체리탕후루 중 귤탕후루가 맛있었당!,딸기탕후루 무슨 일입니까 진짜 ㅋㅋ이렇게 파실거면 가격을 내려야죠. 장난하십니까.딸기가 미니어쳐 수준  블루베리 크기만해요.너무나도 실망스럽습니다.\n",
    "\"\"\"\n",
    "\n",
    "review_summarize_answer_example1 = \"\"\"\n",
    "- 리뷰 요약 : 달콤왕가탕후루는 서울특별시 성동구에 위치하며 다양한 탕후루를 파는 가게이며, 동네에서 싸고 맛있는 가게로 소문이 나있습니다. 특히 귤탕후루가 맛있다고 합니다.\n",
    "- 시간대 : 알 수 없음\n",
    "- 인원 : 알 수 없음\n",
    "- 분위기 : 알 수 없음\n",
    "- 식당 메뉴 : 귤탕후루, 체리탕후루\n",
    "\"\"\"\n",
    "\n",
    "review_summarize_question_example2 = \"\"\"\n",
    "[입력] :\n",
    "- 가게 이름 : 족발신선생\n",
    "- 가게 위치 : 서울특별시 강서구 가양1동\n",
    "- 카테고리 : [음식점, 한식, 육류, 고기, 족발, 보쌈, 족발신선생]\n",
    "- 리뷰 묶음 : 다른 족발집 웨이팅하다가 너무 오래걸려서 여기로 왔어요.굉장히 만족스럽네요 ㅋㅋ 서비스라던가 메뉴 퀄리티 모두 좋습니다. 잘 먹고 가용 🫶,족발 정말 맛있어요.,여자직원들 싸가지없음,족발 맛있고,, 진짜 양 미텼고.. 서비스로 주는 어리굴젓 진짜 너무 맛있음 ㅠ 살코기 많은것 보다 껍질이 더 많은 느낌이라 쫄깃한 껍질을 더 좋아하면 가셔욤!! 사이드디쉬로 나온 짬뽕 순두부도 다 먹지 못할정도로 양이 많았어요~~강추~~,\n",
    "\"\"\"\n",
    "\n",
    "review_summarize_answer_example2 = \"\"\"\n",
    "- 리뷰 요약 : 족발신선생님 서울특별시 강서구 가양1동에 위치하는 한식 음식점이며 주로 족발과 보쌈을 판매하는 식당입니다. 다른 매장에 비해 웨이팅 없이 빠르게 입장할 수 있으며 서비스 및 퀄리티가 매우 좋습니다. 음식의 양 또한 많으며 특시 서비스로 주는 어리굴젓이 맛있다고 합니다.\n",
    "- 시간대 : 알 수 없음\n",
    "- 인원 : 알 수 없음\n",
    "- 분위기 : 알 수 없음\n",
    "- 식당 메뉴 : 족발, 짬뽕 순두부, 보쌈\n",
    "\"\"\"\n",
    "\n",
    "user_input = \"\"\"\n",
    "[입력] :\n",
    "- 가게 이름 : {store_name}\n",
    "- 가게 위치 : {store_location}\n",
    "- 카테고리 : {category}\n",
    "- 리뷰 묶음 : {reviews}\n",
    "\"\"\""
   ],
   "metadata": {
    "collapsed": false
   }
  },
  {
   "cell_type": "code",
   "execution_count": 13,
   "outputs": [
    {
     "data": {
      "text/plain": "poi_id                                                1298505567\npoi_name                                                    섭생정식\nvisit_count                                                   42\nhcode                                                 1132051500\nhname1                                                     서울특별시\nhname2                                                       도봉구\nhname3                                                       창5동\ncate_id                                                    124.0\nfullpath                                                  음식점>한식\ncatename                                                      한식\ncatetype                                                       C\napicatename                                                  음식점\nadultflag                                                      N\nlandmarkyn                                                     N\nname1                                                        음식점\nname2                                                         한식\nname3                                                        NaN\nname4                                                        NaN\nname5                                                        NaN\ntime_list                                                    NaN\nscores                                     [1, 5, 5, 5, 5, 5, 5]\nreviews        정말 최악의 경험을 하였습니다. 음식끼리 나오는 텀이 너무 길며 아무리 직원분을 불...\ncategories                                             [음식점, 한식]\nName: 2916, dtype: object"
     },
     "execution_count": 13,
     "metadata": {},
     "output_type": "execute_result"
    }
   ],
   "source": [
    "sample = food_shop_df.loc[2916]\n",
    "sample"
   ],
   "metadata": {
    "collapsed": false
   }
  },
  {
   "cell_type": "code",
   "execution_count": 20,
   "outputs": [],
   "source": [
    "chat = AzureChatOpenAI(azure_deployment=\"gpt-4\")\n",
    "\n",
    "prompt = ChatPromptTemplate.from_messages(\n",
    "    [\n",
    "        SystemMessage(content=review_summarize_system_template),\n",
    "        HumanMessage(content=review_summarize_question_example1),\n",
    "        AIMessage(content=review_summarize_answer_example1),\n",
    "        HumanMessage(content=review_summarize_question_example2),\n",
    "        AIMessage(content=review_summarize_answer_example2),\n",
    "        HumanMessage(content=user_input.format(store_name=sample[\"poi_name\"], store_location=\" \".join(\n",
    "            [sample[\"hname1\"], sample[\"hname2\"], sample[\"hname3\"]]), category=sample[\"categories\"],\n",
    "                                               reviews=sample[\"reviews\"])),\n",
    "    ]\n",
    ")\n",
    "\n",
    "chain = prompt | chat"
   ],
   "metadata": {
    "collapsed": false
   }
  },
  {
   "cell_type": "code",
   "execution_count": 21,
   "outputs": [
    {
     "data": {
      "text/plain": "AIMessage(content='- 리뷰 요약 : 섭생정식은 서울특별시 도봉구에 있는 한식 음식점으로, 해산물이 신선하고 맛있다는 평가를 받고 있습니다. 특히 조미료를 사용하지 않고도 맛을 내는 것에 대해 많은 고객들이 만족감을 표현하고 있으며, 해산물 냄새가 나지 않아서 누구나 즐길 수 있다고 합니다. 또한, 주차는 인근 공영주차장을 이용하는 것이 좋다는 의견도 있습니다.\\n- 시간대 : 알 수 없음\\n- 인원 : 알 수 없음\\n- 분위기 : 알 수 없음\\n- 식당 메뉴 : 해산물, 산낙지 연포탕, 해물탕, 파전')"
     },
     "execution_count": 21,
     "metadata": {},
     "output_type": "execute_result"
    }
   ],
   "source": [
    "chain.invoke({})"
   ],
   "metadata": {
    "collapsed": false
   }
  }
 ],
 "metadata": {
  "kernelspec": {
   "display_name": "Python 3",
   "language": "python",
   "name": "python3"
  },
  "language_info": {
   "codemirror_mode": {
    "name": "ipython",
    "version": 2
   },
   "file_extension": ".py",
   "mimetype": "text/x-python",
   "name": "python",
   "nbconvert_exporter": "python",
   "pygments_lexer": "ipython2",
   "version": "2.7.6"
  }
 },
 "nbformat": 4,
 "nbformat_minor": 0
}

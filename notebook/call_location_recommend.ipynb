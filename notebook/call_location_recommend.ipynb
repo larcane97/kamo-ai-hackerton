{
 "cells": [
  {
   "cell_type": "code",
   "execution_count": 1,
   "metadata": {
    "collapsed": true
   },
   "outputs": [],
   "source": [
    "import pandas as pd\n",
    "import requests\n",
    "import json"
   ]
  },
  {
   "cell_type": "markdown",
   "source": [
    "### get call demand info"
   ],
   "metadata": {
    "collapsed": false
   }
  },
  {
   "cell_type": "code",
   "execution_count": 79,
   "outputs": [],
   "source": [
    "def get_address_by_lat_lng(lat_lng_list):\n",
    "    headers = {\"Content-type\" :\"application/json\"}\n",
    "\n",
    "    query_params = []\n",
    "    for i in range(0, len(lat_lng_list), 2):\n",
    "        query_param = f\"locations={','.join(map(str,lat_lng_list[i:i+2]))}\"\n",
    "        query_params.append(query_param)\n",
    "\n",
    "    facility_url = f\"http://navi-facility-api.dev.onkakao.net/region/v1/hcodes?{'&'.join(query_params)}\"\n",
    "\n",
    "    resp = requests.get(facility_url, headers)\n",
    "\n",
    "    if resp.status_code != 200:\n",
    "        print(resp.content)\n",
    "        return None\n",
    "\n",
    "    return resp.json()\n",
    "\n",
    "def get_call_demand(lat, lng, current_threshold=2, after_30m_threshold=2, max_num=3):\n",
    "    header = {\"Content-Type\":\"application/json\"}\n",
    "    body = {\n",
    "        \"center_lat\" : lat,\n",
    "        \"center_lng\": lng,\n",
    "        \"radius\" : 16,\n",
    "        \"resolution\" : 7\n",
    "    }\n",
    "\n",
    "    model_url = \"https://airnd-wheel-gateway-dev.onkm.co.kr/call-demand-forecasting/predict\"\n",
    "\n",
    "    response = requests.post(model_url, json=body, headers=header)\n",
    "\n",
    "    if response.status_code != 200:\n",
    "        return None\n",
    "\n",
    "    data = response.json()[\"predictions\"][\"data\"]\n",
    "\n",
    "    current_recommend_call = []\n",
    "    call_after_30m_recommend_call = []\n",
    "    for d in data:\n",
    "        if d[\"call_now\"] >= current_threshold:\n",
    "            current_recommend_call.extend([d[\"hex_center\"][\"lat\"], d[\"hex_center\"][\"lng\"]])\n",
    "        if d[\"call_after_30m\"] > after_30m_threshold:\n",
    "            call_after_30m_recommend_call.extend([d[\"hex_center\"][\"lat\"], d[\"hex_center\"][\"lng\"]])\n",
    "\n",
    "    return current_recommend_call[:min(len(current_recommend_call), max_num*2)], call_after_30m_recommend_call[:min(len(call_after_30m_recommend_call), max_num*2)]\n",
    "\n",
    "def parsing_address(address:dict):\n",
    "    addresses = [ addr for addr in [address.get('name1', ''), address.get('name2', ''), address.get('name3', '')] if addr != '']\n",
    "    lat_lng = f\"({address['y']}, {address['x']})\"\n",
    "    return \" \".join(addresses) + lat_lng"
   ],
   "metadata": {
    "collapsed": false
   }
  },
  {
   "cell_type": "code",
   "execution_count": 84,
   "outputs": [],
   "source": [
    "driver_lat, driver_lng = 37.508811, 127.040978\n",
    "driver_address =parsing_address(get_address_by_lat_lng([driver_lat, driver_lng])[0])\n",
    "current_recommend_call, call_after_30m_recommend_call = get_call_demand(driver_lat, driver_lng)\n",
    "current_address = get_address_by_lat_lng(current_recommend_call)\n",
    "call_after_30m_address = get_address_by_lat_lng(call_after_30m_recommend_call)"
   ],
   "metadata": {
    "collapsed": false
   }
  },
  {
   "cell_type": "code",
   "execution_count": 85,
   "outputs": [],
   "source": [
    "current_address_str_list = list(map(parsing_address, current_address))\n",
    "call_after_30m_address_str_list = list(map(parsing_address, call_after_30m_address))"
   ],
   "metadata": {
    "collapsed": false
   }
  },
  {
   "cell_type": "code",
   "execution_count": 82,
   "outputs": [],
   "source": [
    "call_location_recommend_system_template = \"\"\"\n",
    "너는 \"현재 기사님의 위치\", \"현재 수요가 많은 지역 리스트\"와 \"앞으로 30분 후에 수요가 많을 지역 리스트\"를 입력으로 받아서 기사님들에게 해당 정보를 요약해주는 AI 모델이야.\n",
    "너는 입력 받은 수요 지역 리스트 정보를 기반으로 현재 수요가 많은 지역, 앞으로 수요가 많을 지역들에 대해 설명해주어야 해.\n",
    "이때 기사님들에게 추천해주는 거니까 강요하는 식으로 말하면 안 되고, 간격하고 공손한 말투로 대답해줘야 해\n",
    "\"\"\"\n",
    "\n",
    "call_location_recommend_question_example = \"\"\"\n",
    "- 현재 기사님 위치 : 서울특별시 강남구 역삼1동\n",
    "\n",
    "- 현재 수요가 많은 지역 리스트 : ['서울특별시 강남구 논현1동', '서울특별시 종로구 종로1.2.3.4가동', '경기도 성남시 분당구 판교동']\n",
    "\n",
    "- 앞으로 30분 후 수요가 많을 지역 리스트 : ['서울특별시 강남구 청담동', '서울특별시 송파구 가락본동', '서울특별시 광진구 광장동']\n",
    "\"\"\"\n",
    "\n",
    "call_location_recommend_answer_example = \"\"\"\n",
    "안녕하세요 기사님. 기사님의 위치를 기반으로 현재 콜이 많은 지역과 앞으로 콜이 많아질 지역을 추천해드릴게요\n",
    "\n",
    "현재 기사님의 위치 \"서울특별시 강남구 역삼1동\"에서 가까운 지역 중에서 수요가 많은 지역은 동일한 강남구의 논현1동과 종로구의 종로, 경기도의 성남시 분당구입니다.\n",
    "\n",
    "또한 앞으로 30분 후에 콜 예측을 수행했을 때에는, 강남구의 청담동, 송파구의 가락본동, 광진구의 광장동이 수요가 높을 것으로 예상됩니다.\n",
    "\n",
    "논현1동은 현재 지역과 거리가 그리 멀지 않으니 해당 지역에 가서 대기해보셔도 좋을 것 같습니다.\n",
    "또한 잠깐 다른 업무를 보셔야 한다면 업무를 보신 다음에 강남구의 청담동에 가보셔도 좋을 것 같습니다.\n",
    "\"\"\"\n",
    "\n",
    "user_input = \"\"\"\n",
    "- 현재 기사님 위치 : {driver_location}\n",
    "\n",
    "- 현재 수요가 많은 지역 리스트 : {current_address_str_list}\n",
    "\n",
    "- 앞으로 30분 후 수요가 많을 지역 리스트 : {call_after_30m_address_str_list}\n",
    "\"\"\""
   ],
   "metadata": {
    "collapsed": false
   }
  },
  {
   "cell_type": "code",
   "execution_count": 83,
   "outputs": [
    {
     "data": {
      "text/plain": "'서울특별시 강남구 역삼1동(37.49542431718493, 127.03320108651666)'"
     },
     "execution_count": 83,
     "metadata": {},
     "output_type": "execute_result"
    }
   ],
   "source": [
    "driver_address"
   ],
   "metadata": {
    "collapsed": false
   }
  },
  {
   "cell_type": "code",
   "execution_count": 89,
   "outputs": [],
   "source": [
    "import os\n",
    "os.environ[\"OPENAI_API_TYPE\"] = \"azure\"\n",
    "os.environ[\"OPENAI_API_BASE\"] = \"https://kmt-oai-fr-37.openai.azure.com/\"\n",
    "os.environ[\"OPENAI_API_KEY\"] = \"7b214487cbbb49058ad896b129b1cafc\"\n",
    "os.environ[\"OPENAI_API_VERSION\"] = \"2023-07-01-preview\""
   ],
   "metadata": {
    "collapsed": false
   }
  },
  {
   "cell_type": "code",
   "execution_count": 90,
   "outputs": [],
   "source": [
    "from langchain.prompts import ChatPromptTemplate\n",
    "from langchain.chat_models import AzureChatOpenAI\n",
    "from langchain.schema import SystemMessage, AIMessage\n",
    "from langchain.schema import HumanMessage\n",
    "\n",
    "chat = AzureChatOpenAI(azure_deployment=\"gpt-4\")\n",
    "\n",
    "prompt = ChatPromptTemplate.from_messages(\n",
    "    [\n",
    "        SystemMessage(content=call_location_recommend_system_template),\n",
    "        HumanMessage(content=call_location_recommend_question_example),\n",
    "        AIMessage(content=call_location_recommend_answer_example),\n",
    "        HumanMessage(content=user_input.format(\n",
    "            driver_location=driver_address,\n",
    "            current_address_str_list=current_address_str_list,\n",
    "            call_after_30m_address_str_list=call_after_30m_address_str_list)),\n",
    "    ]\n",
    ")\n",
    "\n",
    "chain = prompt | chat"
   ],
   "metadata": {
    "collapsed": false
   }
  },
  {
   "cell_type": "code",
   "execution_count": 96,
   "outputs": [],
   "source": [
    "model_resp = chain.invoke({})"
   ],
   "metadata": {
    "collapsed": false
   }
  },
  {
   "cell_type": "code",
   "execution_count": 101,
   "outputs": [
    {
     "data": {
      "text/plain": "'서울특별시 강남구 역삼1동(37.49542431718493, 127.03320108651666)'"
     },
     "execution_count": 101,
     "metadata": {},
     "output_type": "execute_result"
    }
   ],
   "source": [
    "driver_address"
   ],
   "metadata": {
    "collapsed": false
   }
  },
  {
   "cell_type": "code",
   "execution_count": 102,
   "outputs": [
    {
     "data": {
      "text/plain": "['서울특별시 강남구 도곡2동(37.483728401661516, 127.04638382177308)',\n '서울특별시 서초구 양재1동(37.47163933132787, 127.02672880394384)',\n '서울특별시 광진구 화양동(37.546476261142864, 127.07136761473575)']"
     },
     "execution_count": 102,
     "metadata": {},
     "output_type": "execute_result"
    }
   ],
   "source": [
    "current_address_str_list"
   ],
   "metadata": {
    "collapsed": false
   }
  },
  {
   "cell_type": "code",
   "execution_count": 103,
   "outputs": [
    {
     "data": {
      "text/plain": "['서울특별시 강남구 역삼2동(37.49596751103195, 127.0468346777432)',\n '서울특별시 강남구 논현1동(37.51149226338117, 127.02855272024502)',\n '서울특별시 서초구 서초3동(37.48370806396488, 127.01200750943013)']"
     },
     "execution_count": 103,
     "metadata": {},
     "output_type": "execute_result"
    }
   ],
   "source": [
    "call_after_30m_address_str_list"
   ],
   "metadata": {
    "collapsed": false
   }
  },
  {
   "cell_type": "code",
   "execution_count": 97,
   "outputs": [
    {
     "name": "stdout",
     "output_type": "stream",
     "text": [
      "기사님, 현재 위치하고 계신 서울특별시 강남구 역삼1동 주변에서 수요가 많은 지역들에 대한 정보를 알려드리겠습니다.\n",
      "\n",
      "현재로서는 강남구 도곡2동, 서초구 양재1동, 그리고 광진구 화양동 쪽에서 수요가 많이 발생하고 있습니다. 이 중에서 도곡2동과 양재1동은 기사님의 현재 위치와 가까우니 이 지역들을 고려해보실 수 있을 것 같습니다.\n",
      "\n",
      "그리고 앞으로 30분 뒤에는 역삼2동, 논현1동, 서초3동에서 수요가 많을 것으로 예상됩니다. 특히 역삼2동은 현재 기사님의 위치와 매우 가깝기 때문에, 조금 이따가 고객 수요가 높아지는 시점에 맞춰서 이동하시면 좋을 것 같습니다.\n",
      "\n",
      "기사님의 일정과 루트를 고려하여 효율적인 이동을 계획해보시는 것이 좋겠습니다. 안전 운행하시길 바랍니다.\n"
     ]
    }
   ],
   "source": [
    "print(model_resp.content)"
   ],
   "metadata": {
    "collapsed": false
   }
  },
  {
   "cell_type": "code",
   "execution_count": 26,
   "outputs": [],
   "source": [
    "call_df = pd.DataFrame(df)\n",
    "df.to_csv(\"../data/h3_call_demand.csv\")"
   ],
   "metadata": {
    "collapsed": false
   }
  },
  {
   "cell_type": "markdown",
   "source": [
    "---"
   ],
   "metadata": {
    "collapsed": false
   }
  },
  {
   "cell_type": "code",
   "execution_count": 28,
   "outputs": [],
   "source": [
    "call_df = pd.DataFrame(df)"
   ],
   "metadata": {
    "collapsed": false
   }
  },
  {
   "cell_type": "code",
   "execution_count": 37,
   "outputs": [
    {
     "data": {
      "text/plain": "              h3res7  call_now  call_after_30m  call_after_60m  center_lat  \\\n37   8730e0269ffffff         3               3               1   37.385205   \n70   8730e0aedffffff         3               0               0   37.567390   \n101  8730e1436ffffff         3               3               1   37.287498   \n103  8730e0a60ffffff         3               0               0   37.682619   \n\n     center_lng  \n37   127.092241  \n70   126.832508  \n101  127.230689  \n103  126.786795  ",
      "text/html": "<div>\n<style scoped>\n    .dataframe tbody tr th:only-of-type {\n        vertical-align: middle;\n    }\n\n    .dataframe tbody tr th {\n        vertical-align: top;\n    }\n\n    .dataframe thead th {\n        text-align: right;\n    }\n</style>\n<table border=\"1\" class=\"dataframe\">\n  <thead>\n    <tr style=\"text-align: right;\">\n      <th></th>\n      <th>h3res7</th>\n      <th>call_now</th>\n      <th>call_after_30m</th>\n      <th>call_after_60m</th>\n      <th>center_lat</th>\n      <th>center_lng</th>\n    </tr>\n  </thead>\n  <tbody>\n    <tr>\n      <th>37</th>\n      <td>8730e0269ffffff</td>\n      <td>3</td>\n      <td>3</td>\n      <td>1</td>\n      <td>37.385205</td>\n      <td>127.092241</td>\n    </tr>\n    <tr>\n      <th>70</th>\n      <td>8730e0aedffffff</td>\n      <td>3</td>\n      <td>0</td>\n      <td>0</td>\n      <td>37.567390</td>\n      <td>126.832508</td>\n    </tr>\n    <tr>\n      <th>101</th>\n      <td>8730e1436ffffff</td>\n      <td>3</td>\n      <td>3</td>\n      <td>1</td>\n      <td>37.287498</td>\n      <td>127.230689</td>\n    </tr>\n    <tr>\n      <th>103</th>\n      <td>8730e0a60ffffff</td>\n      <td>3</td>\n      <td>0</td>\n      <td>0</td>\n      <td>37.682619</td>\n      <td>126.786795</td>\n    </tr>\n  </tbody>\n</table>\n</div>"
     },
     "execution_count": 37,
     "metadata": {},
     "output_type": "execute_result"
    }
   ],
   "source": [
    "call_df[call_df[\"call_now\"]>1]"
   ],
   "metadata": {
    "collapsed": false
   }
  },
  {
   "cell_type": "code",
   "execution_count": 38,
   "outputs": [
    {
     "data": {
      "text/plain": "              h3res7  call_now  call_after_30m  call_after_60m  center_lat  \\\n0    8730e1ca3ffffff         0               3               1   37.500817   \n1    8730e1ca2ffffff         0               2               3   37.493210   \n2    8730e1c84ffffff         0               3               2   37.481047   \n3    8730e1caeffffff         1               2               0   37.508423   \n4    8730e1ca1ffffff         0               2               0   37.520588   \n18   8730e1d89ffffff         0               2               1   37.564672   \n21   8730e1d83ffffff         1               3               0   37.541805   \n37   8730e0269ffffff         3               3               1   37.385205   \n45   8730e1531ffffff         0               2               3   37.388162   \n49   8730e1db5ffffff         0               3               3   37.570555   \n61   8730e0376ffffff         0               2               2   37.405014   \n66   8730e1c5effffff         0               2               2   37.608880   \n67   8730e1d02ffffff         0               3               3   37.672518   \n69   8730e0a5cffffff         0               2               0   37.606874   \n73   8730e0253ffffff         0               3               3   37.271265   \n90   8730e0223ffffff         0               2               2   37.309407   \n92   8730e15b5ffffff         0               3               3   37.261975   \n94   8730e1c60ffffff         0               3               3   37.704862   \n101  8730e1436ffffff         3               3               1   37.287498   \n106  8730e0326ffffff         0               2               0   37.398806   \n109  8730e02c0ffffff         0               2               0   37.192275   \n\n     center_lng  \n0    127.046889  \n1    127.027914  \n2    127.045243  \n3    127.065875  \n4    127.048537  \n18   127.015495  \n21   126.958592  \n37   127.092241  \n45   127.147518  \n49   126.887660  \n61   126.856051  \n66   127.221572  \n67   126.950959  \n69   126.835666  \n73   127.046108  \n90   126.903105  \n92   127.118522  \n94   127.174490  \n101  127.230689  \n106  126.746151  \n109  127.039552  ",
      "text/html": "<div>\n<style scoped>\n    .dataframe tbody tr th:only-of-type {\n        vertical-align: middle;\n    }\n\n    .dataframe tbody tr th {\n        vertical-align: top;\n    }\n\n    .dataframe thead th {\n        text-align: right;\n    }\n</style>\n<table border=\"1\" class=\"dataframe\">\n  <thead>\n    <tr style=\"text-align: right;\">\n      <th></th>\n      <th>h3res7</th>\n      <th>call_now</th>\n      <th>call_after_30m</th>\n      <th>call_after_60m</th>\n      <th>center_lat</th>\n      <th>center_lng</th>\n    </tr>\n  </thead>\n  <tbody>\n    <tr>\n      <th>0</th>\n      <td>8730e1ca3ffffff</td>\n      <td>0</td>\n      <td>3</td>\n      <td>1</td>\n      <td>37.500817</td>\n      <td>127.046889</td>\n    </tr>\n    <tr>\n      <th>1</th>\n      <td>8730e1ca2ffffff</td>\n      <td>0</td>\n      <td>2</td>\n      <td>3</td>\n      <td>37.493210</td>\n      <td>127.027914</td>\n    </tr>\n    <tr>\n      <th>2</th>\n      <td>8730e1c84ffffff</td>\n      <td>0</td>\n      <td>3</td>\n      <td>2</td>\n      <td>37.481047</td>\n      <td>127.045243</td>\n    </tr>\n    <tr>\n      <th>3</th>\n      <td>8730e1caeffffff</td>\n      <td>1</td>\n      <td>2</td>\n      <td>0</td>\n      <td>37.508423</td>\n      <td>127.065875</td>\n    </tr>\n    <tr>\n      <th>4</th>\n      <td>8730e1ca1ffffff</td>\n      <td>0</td>\n      <td>2</td>\n      <td>0</td>\n      <td>37.520588</td>\n      <td>127.048537</td>\n    </tr>\n    <tr>\n      <th>18</th>\n      <td>8730e1d89ffffff</td>\n      <td>0</td>\n      <td>2</td>\n      <td>1</td>\n      <td>37.564672</td>\n      <td>127.015495</td>\n    </tr>\n    <tr>\n      <th>21</th>\n      <td>8730e1d83ffffff</td>\n      <td>1</td>\n      <td>3</td>\n      <td>0</td>\n      <td>37.541805</td>\n      <td>126.958592</td>\n    </tr>\n    <tr>\n      <th>37</th>\n      <td>8730e0269ffffff</td>\n      <td>3</td>\n      <td>3</td>\n      <td>1</td>\n      <td>37.385205</td>\n      <td>127.092241</td>\n    </tr>\n    <tr>\n      <th>45</th>\n      <td>8730e1531ffffff</td>\n      <td>0</td>\n      <td>2</td>\n      <td>3</td>\n      <td>37.388162</td>\n      <td>127.147518</td>\n    </tr>\n    <tr>\n      <th>49</th>\n      <td>8730e1db5ffffff</td>\n      <td>0</td>\n      <td>3</td>\n      <td>3</td>\n      <td>37.570555</td>\n      <td>126.887660</td>\n    </tr>\n    <tr>\n      <th>61</th>\n      <td>8730e0376ffffff</td>\n      <td>0</td>\n      <td>2</td>\n      <td>2</td>\n      <td>37.405014</td>\n      <td>126.856051</td>\n    </tr>\n    <tr>\n      <th>66</th>\n      <td>8730e1c5effffff</td>\n      <td>0</td>\n      <td>2</td>\n      <td>2</td>\n      <td>37.608880</td>\n      <td>127.221572</td>\n    </tr>\n    <tr>\n      <th>67</th>\n      <td>8730e1d02ffffff</td>\n      <td>0</td>\n      <td>3</td>\n      <td>3</td>\n      <td>37.672518</td>\n      <td>126.950959</td>\n    </tr>\n    <tr>\n      <th>69</th>\n      <td>8730e0a5cffffff</td>\n      <td>0</td>\n      <td>2</td>\n      <td>0</td>\n      <td>37.606874</td>\n      <td>126.835666</td>\n    </tr>\n    <tr>\n      <th>73</th>\n      <td>8730e0253ffffff</td>\n      <td>0</td>\n      <td>3</td>\n      <td>3</td>\n      <td>37.271265</td>\n      <td>127.046108</td>\n    </tr>\n    <tr>\n      <th>90</th>\n      <td>8730e0223ffffff</td>\n      <td>0</td>\n      <td>2</td>\n      <td>2</td>\n      <td>37.309407</td>\n      <td>126.903105</td>\n    </tr>\n    <tr>\n      <th>92</th>\n      <td>8730e15b5ffffff</td>\n      <td>0</td>\n      <td>3</td>\n      <td>3</td>\n      <td>37.261975</td>\n      <td>127.118522</td>\n    </tr>\n    <tr>\n      <th>94</th>\n      <td>8730e1c60ffffff</td>\n      <td>0</td>\n      <td>3</td>\n      <td>3</td>\n      <td>37.704862</td>\n      <td>127.174490</td>\n    </tr>\n    <tr>\n      <th>101</th>\n      <td>8730e1436ffffff</td>\n      <td>3</td>\n      <td>3</td>\n      <td>1</td>\n      <td>37.287498</td>\n      <td>127.230689</td>\n    </tr>\n    <tr>\n      <th>106</th>\n      <td>8730e0326ffffff</td>\n      <td>0</td>\n      <td>2</td>\n      <td>0</td>\n      <td>37.398806</td>\n      <td>126.746151</td>\n    </tr>\n    <tr>\n      <th>109</th>\n      <td>8730e02c0ffffff</td>\n      <td>0</td>\n      <td>2</td>\n      <td>0</td>\n      <td>37.192275</td>\n      <td>127.039552</td>\n    </tr>\n  </tbody>\n</table>\n</div>"
     },
     "execution_count": 38,
     "metadata": {},
     "output_type": "execute_result"
    }
   ],
   "source": [
    "call_df[call_df[\"call_after_30m\"]>1]"
   ],
   "metadata": {
    "collapsed": false
   }
  },
  {
   "cell_type": "code",
   "execution_count": 39,
   "outputs": [
    {
     "data": {
      "text/plain": "              h3res7  call_now  call_after_30m  call_after_60m  center_lat  \\\n1    8730e1ca2ffffff         0               2               3   37.493210   \n2    8730e1c84ffffff         0               3               2   37.481047   \n9    8730e1ca4ffffff         0               0               3   37.525134   \n11   8730e1c13ffffff         1               0               2   37.547976   \n22   8730e1d9cffffff         0               0               2   37.522047   \n23   8730e036dffffff         0               0               2   37.482536   \n26   8730e1d8dffffff         0               0               3   37.576818   \n27   8730e1d8cffffff         1               1               2   37.569192   \n30   8730e1c9affffff         1               1               3   37.404975   \n36   8730e1d95ffffff         0               0               3   37.526560   \n39   8730e1d96ffffff         1               0               2   37.499190   \n45   8730e1531ffffff         0               2               3   37.388162   \n49   8730e1db5ffffff         0               3               3   37.570555   \n61   8730e0376ffffff         0               2               2   37.405014   \n66   8730e1c5effffff         0               2               2   37.608880   \n67   8730e1d02ffffff         0               3               3   37.672518   \n73   8730e0253ffffff         0               3               3   37.271265   \n88   8730e0a44ffffff         0               1               2   37.650798   \n90   8730e0223ffffff         0               2               2   37.309407   \n92   8730e15b5ffffff         0               3               3   37.261975   \n94   8730e1c60ffffff         0               3               3   37.704862   \n108  8730e031bffffff         0               1               2   37.306385   \n\n     center_lng  \n1    127.027914  \n2    127.045243  \n9    127.012220  \n11   127.069184  \n22   126.956973  \n23   126.953740  \n26   126.998149  \n27   126.979175  \n30   127.093901  \n36   126.920712  \n39   126.900189  \n45   127.147518  \n49   126.887660  \n61   126.856051  \n66   127.221572  \n67   126.950959  \n73   127.046108  \n88   126.802570  \n90   126.903105  \n92   127.118522  \n94   127.174490  \n108  126.848153  ",
      "text/html": "<div>\n<style scoped>\n    .dataframe tbody tr th:only-of-type {\n        vertical-align: middle;\n    }\n\n    .dataframe tbody tr th {\n        vertical-align: top;\n    }\n\n    .dataframe thead th {\n        text-align: right;\n    }\n</style>\n<table border=\"1\" class=\"dataframe\">\n  <thead>\n    <tr style=\"text-align: right;\">\n      <th></th>\n      <th>h3res7</th>\n      <th>call_now</th>\n      <th>call_after_30m</th>\n      <th>call_after_60m</th>\n      <th>center_lat</th>\n      <th>center_lng</th>\n    </tr>\n  </thead>\n  <tbody>\n    <tr>\n      <th>1</th>\n      <td>8730e1ca2ffffff</td>\n      <td>0</td>\n      <td>2</td>\n      <td>3</td>\n      <td>37.493210</td>\n      <td>127.027914</td>\n    </tr>\n    <tr>\n      <th>2</th>\n      <td>8730e1c84ffffff</td>\n      <td>0</td>\n      <td>3</td>\n      <td>2</td>\n      <td>37.481047</td>\n      <td>127.045243</td>\n    </tr>\n    <tr>\n      <th>9</th>\n      <td>8730e1ca4ffffff</td>\n      <td>0</td>\n      <td>0</td>\n      <td>3</td>\n      <td>37.525134</td>\n      <td>127.012220</td>\n    </tr>\n    <tr>\n      <th>11</th>\n      <td>8730e1c13ffffff</td>\n      <td>1</td>\n      <td>0</td>\n      <td>2</td>\n      <td>37.547976</td>\n      <td>127.069184</td>\n    </tr>\n    <tr>\n      <th>22</th>\n      <td>8730e1d9cffffff</td>\n      <td>0</td>\n      <td>0</td>\n      <td>2</td>\n      <td>37.522047</td>\n      <td>126.956973</td>\n    </tr>\n    <tr>\n      <th>23</th>\n      <td>8730e036dffffff</td>\n      <td>0</td>\n      <td>0</td>\n      <td>2</td>\n      <td>37.482536</td>\n      <td>126.953740</td>\n    </tr>\n    <tr>\n      <th>26</th>\n      <td>8730e1d8dffffff</td>\n      <td>0</td>\n      <td>0</td>\n      <td>3</td>\n      <td>37.576818</td>\n      <td>126.998149</td>\n    </tr>\n    <tr>\n      <th>27</th>\n      <td>8730e1d8cffffff</td>\n      <td>1</td>\n      <td>1</td>\n      <td>2</td>\n      <td>37.569192</td>\n      <td>126.979175</td>\n    </tr>\n    <tr>\n      <th>30</th>\n      <td>8730e1c9affffff</td>\n      <td>1</td>\n      <td>1</td>\n      <td>3</td>\n      <td>37.404975</td>\n      <td>127.093901</td>\n    </tr>\n    <tr>\n      <th>36</th>\n      <td>8730e1d95ffffff</td>\n      <td>0</td>\n      <td>0</td>\n      <td>3</td>\n      <td>37.526560</td>\n      <td>126.920712</td>\n    </tr>\n    <tr>\n      <th>39</th>\n      <td>8730e1d96ffffff</td>\n      <td>1</td>\n      <td>0</td>\n      <td>2</td>\n      <td>37.499190</td>\n      <td>126.900189</td>\n    </tr>\n    <tr>\n      <th>45</th>\n      <td>8730e1531ffffff</td>\n      <td>0</td>\n      <td>2</td>\n      <td>3</td>\n      <td>37.388162</td>\n      <td>127.147518</td>\n    </tr>\n    <tr>\n      <th>49</th>\n      <td>8730e1db5ffffff</td>\n      <td>0</td>\n      <td>3</td>\n      <td>3</td>\n      <td>37.570555</td>\n      <td>126.887660</td>\n    </tr>\n    <tr>\n      <th>61</th>\n      <td>8730e0376ffffff</td>\n      <td>0</td>\n      <td>2</td>\n      <td>2</td>\n      <td>37.405014</td>\n      <td>126.856051</td>\n    </tr>\n    <tr>\n      <th>66</th>\n      <td>8730e1c5effffff</td>\n      <td>0</td>\n      <td>2</td>\n      <td>2</td>\n      <td>37.608880</td>\n      <td>127.221572</td>\n    </tr>\n    <tr>\n      <th>67</th>\n      <td>8730e1d02ffffff</td>\n      <td>0</td>\n      <td>3</td>\n      <td>3</td>\n      <td>37.672518</td>\n      <td>126.950959</td>\n    </tr>\n    <tr>\n      <th>73</th>\n      <td>8730e0253ffffff</td>\n      <td>0</td>\n      <td>3</td>\n      <td>3</td>\n      <td>37.271265</td>\n      <td>127.046108</td>\n    </tr>\n    <tr>\n      <th>88</th>\n      <td>8730e0a44ffffff</td>\n      <td>0</td>\n      <td>1</td>\n      <td>2</td>\n      <td>37.650798</td>\n      <td>126.802570</td>\n    </tr>\n    <tr>\n      <th>90</th>\n      <td>8730e0223ffffff</td>\n      <td>0</td>\n      <td>2</td>\n      <td>2</td>\n      <td>37.309407</td>\n      <td>126.903105</td>\n    </tr>\n    <tr>\n      <th>92</th>\n      <td>8730e15b5ffffff</td>\n      <td>0</td>\n      <td>3</td>\n      <td>3</td>\n      <td>37.261975</td>\n      <td>127.118522</td>\n    </tr>\n    <tr>\n      <th>94</th>\n      <td>8730e1c60ffffff</td>\n      <td>0</td>\n      <td>3</td>\n      <td>3</td>\n      <td>37.704862</td>\n      <td>127.174490</td>\n    </tr>\n    <tr>\n      <th>108</th>\n      <td>8730e031bffffff</td>\n      <td>0</td>\n      <td>1</td>\n      <td>2</td>\n      <td>37.306385</td>\n      <td>126.848153</td>\n    </tr>\n  </tbody>\n</table>\n</div>"
     },
     "execution_count": 39,
     "metadata": {},
     "output_type": "execute_result"
    }
   ],
   "source": [
    "call_df[call_df[\"call_after_60m\"]>1]"
   ],
   "metadata": {
    "collapsed": false
   }
  },
  {
   "cell_type": "code",
   "execution_count": null,
   "outputs": [],
   "source": [],
   "metadata": {
    "collapsed": false
   }
  }
 ],
 "metadata": {
  "kernelspec": {
   "display_name": "Python 3",
   "language": "python",
   "name": "python3"
  },
  "language_info": {
   "codemirror_mode": {
    "name": "ipython",
    "version": 2
   },
   "file_extension": ".py",
   "mimetype": "text/x-python",
   "name": "python",
   "nbconvert_exporter": "python",
   "pygments_lexer": "ipython2",
   "version": "2.7.6"
  }
 },
 "nbformat": 4,
 "nbformat_minor": 0
}

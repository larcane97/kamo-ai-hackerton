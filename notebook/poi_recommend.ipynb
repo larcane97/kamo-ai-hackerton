{
 "cells": [
  {
   "cell_type": "code",
   "execution_count": 1,
   "outputs": [],
   "source": [
    "import os\n",
    "import pandas as pd\n",
    "from tqdm import tqdm\n",
    "\n",
    "tqdm.pandas()\n",
    "from langchain.schema import SystemMessage, HumanMessage, AIMessage\n",
    "from langchain.prompts import ChatPromptTemplate\n",
    "from langchain.chat_models import AzureChatOpenAI"
   ],
   "metadata": {
    "collapsed": false,
    "ExecuteTime": {
     "end_time": "2023-11-22T08:56:01.859046Z",
     "start_time": "2023-11-22T08:56:00.613939Z"
    }
   },
   "id": "c23c754fd4b3ab55"
  },
  {
   "cell_type": "code",
   "execution_count": 2,
   "outputs": [],
   "source": [
    "os.environ[\"OPENAI_API_TYPE\"] = \"azure\"\n",
    "os.environ[\"OPENAI_API_BASE\"] = \"https://kmt-oai-uk-37.openai.azure.com/\"\n",
    "os.environ[\"OPENAI_API_KEY\"] = \"dbbe0f299cd44d38ba566abf5202f52d\"\n",
    "os.environ[\"OPENAI_API_VERSION\"] = \"2023-07-01-preview\""
   ],
   "metadata": {
    "collapsed": false,
    "ExecuteTime": {
     "end_time": "2023-11-22T08:56:02.366584Z",
     "start_time": "2023-11-22T08:56:02.362944Z"
    }
   },
   "id": "99465a56ac6957f8"
  },
  {
   "cell_type": "markdown",
   "source": [],
   "metadata": {
    "collapsed": false
   },
   "id": "c82819af9f6bd4af"
  },
  {
   "cell_type": "markdown",
   "source": [
    "### 데이터 로드"
   ],
   "metadata": {
    "collapsed": false
   },
   "id": "3642726958e37269"
  },
  {
   "cell_type": "code",
   "execution_count": 3,
   "outputs": [],
   "source": [
    "df = pd.read_csv(\"../data/poi_review.csv\")"
   ],
   "metadata": {
    "collapsed": false,
    "ExecuteTime": {
     "end_time": "2023-11-22T08:56:03.634305Z",
     "start_time": "2023-11-22T08:56:03.536160Z"
    }
   },
   "id": "62486e3f6e82ff3d"
  },
  {
   "cell_type": "markdown",
   "source": [
    "### 데이터 필터링"
   ],
   "metadata": {
    "collapsed": false
   },
   "id": "9b43013600722b51"
  },
  {
   "cell_type": "code",
   "execution_count": 4,
   "outputs": [],
   "source": [
    "def get_categories(fullpath):\n",
    "    categories = []\n",
    "    splited = list(map(str.strip, fullpath.split(\">\")))\n",
    "    for s in splited:\n",
    "        s = s.strip()\n",
    "        if s == \"\":\n",
    "            continue\n",
    "\n",
    "        categories_ = list(map(str.strip, s.split(\",\")))\n",
    "\n",
    "        categories.extend(categories_)\n",
    "\n",
    "    return categories"
   ],
   "metadata": {
    "collapsed": false,
    "ExecuteTime": {
     "end_time": "2023-11-22T08:56:04.466761Z",
     "start_time": "2023-11-22T08:56:04.461484Z"
    }
   },
   "id": "17d0fd3c844ce8af"
  },
  {
   "cell_type": "code",
   "execution_count": 5,
   "outputs": [],
   "source": [
    "filtered_df = df[df['reviews'].apply(lambda x: isinstance(x, str) and str(x).strip() != '')]\n",
    "filtered_df[\"scores\"] = filtered_df[\"scores\"].apply(eval)\n",
    "filtered_df = filtered_df[filtered_df[\"scores\"].apply(sum) / filtered_df[\"scores\"].apply(len) >= 3.5]\n",
    "filtered_df = filtered_df[filtered_df[\"reviews\"].apply(len) > 50]\n",
    "filtered_df[\"reviews\"] = filtered_df[\"reviews\"].apply(lambda x : x[1:-1])\n",
    "filtered_df[\"categories\"] = filtered_df[\"fullpath\"].apply(get_categories)"
   ],
   "metadata": {
    "collapsed": false,
    "ExecuteTime": {
     "end_time": "2023-11-22T08:56:05.472387Z",
     "start_time": "2023-11-22T08:56:05.412217Z"
    }
   },
   "id": "d29c38e69ad2e25e"
  },
  {
   "cell_type": "markdown",
   "source": [],
   "metadata": {
    "collapsed": false
   },
   "id": "e4ee5bbd595b38a6"
  },
  {
   "cell_type": "code",
   "execution_count": 20,
   "outputs": [
    {
     "data": {
      "text/plain": "          poi_id  poi_name  visit_count       hcode hname1 hname2  \\\n5        9107967     서적백화점          108  1168067000  서울특별시    강남구   \n7       14542282   알라딘중고서점          136  1111061500  서울특별시    종로구   \n8      434486987   알라딘중고서점           75  1130559500  서울특별시    강북구   \n10      19511091   알라딘중고서점           46  1162064500  서울특별시    관악구   \n11    1794507908     서울책보고          114  1171071000  서울특별시    송파구   \n...          ...       ...          ...         ...    ...    ...   \n4449     8595348   지호한방삼계탕           40  1121584700  서울특별시    광진구   \n4452    10577180    엉터리생고기           75  1135064000  서울특별시    노원구   \n4453    10635428      옛골토성          125  1165066000  서울특별시    서초구   \n4459   967792291     족발신선생          160  1150060300  서울특별시    강서구   \n4474     8578219  춘향골남원추어탕          111  1171057000  서울특별시    송파구   \n\n           hname3  cate_id                  fullpath  catename  ...  \\\n5            개포2동    212.0               문화,예술>도서>서점        서점  ...   \n7     종로1.2.3.4가동    880.0          문화,예술>도서>서점>중고서점      중고서점  ...   \n8             번1동    880.0          문화,예술>도서>서점>중고서점      중고서점  ...   \n10            서원동    880.0          문화,예술>도서>서점>중고서점      중고서점  ...   \n11           잠실6동    880.0          문화,예술>도서>서점>중고서점      중고서점  ...   \n...           ...      ...                       ...       ...  ...   \n4449         자양4동   2933.0  음식점>한식>육류,고기>닭요리>지호한방삼계탕   지호한방삼계탕  ...   \n4452         상계2동   3026.0       음식점>한식>육류,고기>엉터리생고기    엉터리생고기  ...   \n4453          내곡동   1579.0         음식점>한식>육류,고기>옛골토성      옛골토성  ...   \n4459         가양1동  25408.0  음식점>한식>육류,고기>족발,보쌈>족발신선생     족발신선생  ...   \n4474          오금동   3138.0  음식점>한식>해물,생선>추어>춘향골남원추어탕  춘향골남원추어탕  ...   \n\n     landmarkyn  name1 name2  name3   name4     name5  \\\n5             N  문화,예술    도서     서점     NaN       NaN   \n7             N  문화,예술    도서     서점    중고서점       NaN   \n8             N  문화,예술    도서     서점    중고서점       NaN   \n10            N  문화,예술    도서     서점    중고서점       NaN   \n11            N  문화,예술    도서     서점    중고서점       NaN   \n...         ...    ...   ...    ...     ...       ...   \n4449          N    음식점    한식  육류,고기     닭요리   지호한방삼계탕   \n4452          N    음식점    한식  육류,고기  엉터리생고기       NaN   \n4453          N    음식점    한식  육류,고기    옛골토성       NaN   \n4459          N    음식점    한식  육류,고기   족발,보쌈     족발신선생   \n4474          N    음식점    한식  해물,생선      추어  춘향골남원추어탕   \n\n                                              time_list  \\\n5     [{\"periodEtc\":null,\"periodName\":\"영업기간\",\"timeLi...   \n7     [{\"periodEtc\":null,\"periodName\":\"영업기간\",\"timeLi...   \n8     [{\"periodEtc\":null,\"periodName\":\"영업기간\",\"timeLi...   \n10    [{\"periodEtc\":null,\"periodName\":\"영업기간\",\"timeLi...   \n11    [{\"periodEtc\":null,\"periodName\":\"영업기간\",\"timeLi...   \n...                                                 ...   \n4449  [{\"periodName\":\"영업기간\",\"periodEtc\":null,\"timeLi...   \n4452  [{\"periodName\":\"영업기간\",\"periodEtc\":null,\"timeLi...   \n4453  [{\"periodName\":\"영업기간\",\"periodEtc\":null,\"timeLi...   \n4459                                                NaN   \n4474  [{\"periodName\":\"영업기간\",\"periodEtc\":null,\"timeLi...   \n\n                                                 scores  \\\n5                                    [4, 5, 1, 5, 5, 5]   \n7      [5, 4, 2, 5, 3, 4, 5, 5, 5, 5, 1, 4, 5, 1, 2, 1]   \n8                              [5, 5, 5, 5, 5, 5, 4, 1]   \n10        [5, 5, 1, 4, 5, 5, 5, 5, 5, 5, 5, 5, 2, 4, 4]   \n11     [1, 5, 5, 5, 5, 5, 1, 5, 5, 5, 1, 4, 5, 5, 3, 1]   \n...                                                 ...   \n4449                           [5, 3, 5, 5, 5, 3, 5, 1]   \n4452                                          [5, 5, 5]   \n4453  [1, 1, 5, 5, 5, 5, 5, 5, 5, 5, 5, 5, 5, 5, 5, ...   \n4459                                    [5, 5, 1, 5, 5]   \n4474   [5, 5, 4, 5, 5, 5, 4, 5, 4, 5, 5, 5, 5, 4, 5, 5]   \n\n                                                reviews  \\\n5     대치 학원가에서 사용하는 모든 교재는 여기에 다 있어요. 책 찾아달라고 말씀 드리면...   \n7     책 판매하러 갔는데 직원분들 엄청 친절하세요. 남/여 두분 다 너무 친절했어요. 주...   \n8     ,전에 카페도 있었을 때가 더 좋았지만!,좋아요,친절하고 깔금하고 왠만한 책들은 다...   \n10    책 많고 직원분이 친절하십니다,매장이 크고 깨끗해서 좋아보였음.,알라딘 온라인으로 ...   \n11    직원들은 무례합니다,책이 다양하게 있진 않지만 조용하고 분위기가 좋아요 인스타그램에...   \n...                                                 ...   \n4449  ,아주머니들이 너무 바쁘셔서 자리도 잘 정리가 안되어 있었어요 ㅠㅠ 맛은 쏘쏘..,...   \n4452  한 번 날잡고 고기먹기 좋습니다서비스 훌륭하구요번창하세요!,항상 맛있습니다!! 사장...   \n4453  와... 사장님 진짜 싸가지 없으시네요카드를 낚아채는 식당 주인은 처음밥 먹고 기분...   \n4459  다른 족발집 웨이팅하다가 너무 오래걸려서 여기로 왔어요.굉장히 만족스럽네요 ㅋㅋ 서...   \n4474  맛있고 양도 푸짐해요!,,추어탕,추어탕집 중 최고! 비린내 하나도 없고 깔끔하고 깊...   \n\n                            categories  \n5                     [문화, 예술, 도서, 서점]  \n7               [문화, 예술, 도서, 서점, 중고서점]  \n8               [문화, 예술, 도서, 서점, 중고서점]  \n10              [문화, 예술, 도서, 서점, 중고서점]  \n11              [문화, 예술, 도서, 서점, 중고서점]  \n...                                ...  \n4449   [음식점, 한식, 육류, 고기, 닭요리, 지호한방삼계탕]  \n4452         [음식점, 한식, 육류, 고기, 엉터리생고기]  \n4453           [음식점, 한식, 육류, 고기, 옛골토성]  \n4459  [음식점, 한식, 육류, 고기, 족발, 보쌈, 족발신선생]  \n4474   [음식점, 한식, 해물, 생선, 추어, 춘향골남원추어탕]  \n\n[1949 rows x 23 columns]",
      "text/html": "<div>\n<style scoped>\n    .dataframe tbody tr th:only-of-type {\n        vertical-align: middle;\n    }\n\n    .dataframe tbody tr th {\n        vertical-align: top;\n    }\n\n    .dataframe thead th {\n        text-align: right;\n    }\n</style>\n<table border=\"1\" class=\"dataframe\">\n  <thead>\n    <tr style=\"text-align: right;\">\n      <th></th>\n      <th>poi_id</th>\n      <th>poi_name</th>\n      <th>visit_count</th>\n      <th>hcode</th>\n      <th>hname1</th>\n      <th>hname2</th>\n      <th>hname3</th>\n      <th>cate_id</th>\n      <th>fullpath</th>\n      <th>catename</th>\n      <th>...</th>\n      <th>landmarkyn</th>\n      <th>name1</th>\n      <th>name2</th>\n      <th>name3</th>\n      <th>name4</th>\n      <th>name5</th>\n      <th>time_list</th>\n      <th>scores</th>\n      <th>reviews</th>\n      <th>categories</th>\n    </tr>\n  </thead>\n  <tbody>\n    <tr>\n      <th>5</th>\n      <td>9107967</td>\n      <td>서적백화점</td>\n      <td>108</td>\n      <td>1168067000</td>\n      <td>서울특별시</td>\n      <td>강남구</td>\n      <td>개포2동</td>\n      <td>212.0</td>\n      <td>문화,예술&gt;도서&gt;서점</td>\n      <td>서점</td>\n      <td>...</td>\n      <td>N</td>\n      <td>문화,예술</td>\n      <td>도서</td>\n      <td>서점</td>\n      <td>NaN</td>\n      <td>NaN</td>\n      <td>[{\"periodEtc\":null,\"periodName\":\"영업기간\",\"timeLi...</td>\n      <td>[4, 5, 1, 5, 5, 5]</td>\n      <td>대치 학원가에서 사용하는 모든 교재는 여기에 다 있어요. 책 찾아달라고 말씀 드리면...</td>\n      <td>[문화, 예술, 도서, 서점]</td>\n    </tr>\n    <tr>\n      <th>7</th>\n      <td>14542282</td>\n      <td>알라딘중고서점</td>\n      <td>136</td>\n      <td>1111061500</td>\n      <td>서울특별시</td>\n      <td>종로구</td>\n      <td>종로1.2.3.4가동</td>\n      <td>880.0</td>\n      <td>문화,예술&gt;도서&gt;서점&gt;중고서점</td>\n      <td>중고서점</td>\n      <td>...</td>\n      <td>N</td>\n      <td>문화,예술</td>\n      <td>도서</td>\n      <td>서점</td>\n      <td>중고서점</td>\n      <td>NaN</td>\n      <td>[{\"periodEtc\":null,\"periodName\":\"영업기간\",\"timeLi...</td>\n      <td>[5, 4, 2, 5, 3, 4, 5, 5, 5, 5, 1, 4, 5, 1, 2, 1]</td>\n      <td>책 판매하러 갔는데 직원분들 엄청 친절하세요. 남/여 두분 다 너무 친절했어요. 주...</td>\n      <td>[문화, 예술, 도서, 서점, 중고서점]</td>\n    </tr>\n    <tr>\n      <th>8</th>\n      <td>434486987</td>\n      <td>알라딘중고서점</td>\n      <td>75</td>\n      <td>1130559500</td>\n      <td>서울특별시</td>\n      <td>강북구</td>\n      <td>번1동</td>\n      <td>880.0</td>\n      <td>문화,예술&gt;도서&gt;서점&gt;중고서점</td>\n      <td>중고서점</td>\n      <td>...</td>\n      <td>N</td>\n      <td>문화,예술</td>\n      <td>도서</td>\n      <td>서점</td>\n      <td>중고서점</td>\n      <td>NaN</td>\n      <td>[{\"periodEtc\":null,\"periodName\":\"영업기간\",\"timeLi...</td>\n      <td>[5, 5, 5, 5, 5, 5, 4, 1]</td>\n      <td>,전에 카페도 있었을 때가 더 좋았지만!,좋아요,친절하고 깔금하고 왠만한 책들은 다...</td>\n      <td>[문화, 예술, 도서, 서점, 중고서점]</td>\n    </tr>\n    <tr>\n      <th>10</th>\n      <td>19511091</td>\n      <td>알라딘중고서점</td>\n      <td>46</td>\n      <td>1162064500</td>\n      <td>서울특별시</td>\n      <td>관악구</td>\n      <td>서원동</td>\n      <td>880.0</td>\n      <td>문화,예술&gt;도서&gt;서점&gt;중고서점</td>\n      <td>중고서점</td>\n      <td>...</td>\n      <td>N</td>\n      <td>문화,예술</td>\n      <td>도서</td>\n      <td>서점</td>\n      <td>중고서점</td>\n      <td>NaN</td>\n      <td>[{\"periodEtc\":null,\"periodName\":\"영업기간\",\"timeLi...</td>\n      <td>[5, 5, 1, 4, 5, 5, 5, 5, 5, 5, 5, 5, 2, 4, 4]</td>\n      <td>책 많고 직원분이 친절하십니다,매장이 크고 깨끗해서 좋아보였음.,알라딘 온라인으로 ...</td>\n      <td>[문화, 예술, 도서, 서점, 중고서점]</td>\n    </tr>\n    <tr>\n      <th>11</th>\n      <td>1794507908</td>\n      <td>서울책보고</td>\n      <td>114</td>\n      <td>1171071000</td>\n      <td>서울특별시</td>\n      <td>송파구</td>\n      <td>잠실6동</td>\n      <td>880.0</td>\n      <td>문화,예술&gt;도서&gt;서점&gt;중고서점</td>\n      <td>중고서점</td>\n      <td>...</td>\n      <td>N</td>\n      <td>문화,예술</td>\n      <td>도서</td>\n      <td>서점</td>\n      <td>중고서점</td>\n      <td>NaN</td>\n      <td>[{\"periodEtc\":null,\"periodName\":\"영업기간\",\"timeLi...</td>\n      <td>[1, 5, 5, 5, 5, 5, 1, 5, 5, 5, 1, 4, 5, 5, 3, 1]</td>\n      <td>직원들은 무례합니다,책이 다양하게 있진 않지만 조용하고 분위기가 좋아요 인스타그램에...</td>\n      <td>[문화, 예술, 도서, 서점, 중고서점]</td>\n    </tr>\n    <tr>\n      <th>...</th>\n      <td>...</td>\n      <td>...</td>\n      <td>...</td>\n      <td>...</td>\n      <td>...</td>\n      <td>...</td>\n      <td>...</td>\n      <td>...</td>\n      <td>...</td>\n      <td>...</td>\n      <td>...</td>\n      <td>...</td>\n      <td>...</td>\n      <td>...</td>\n      <td>...</td>\n      <td>...</td>\n      <td>...</td>\n      <td>...</td>\n      <td>...</td>\n      <td>...</td>\n      <td>...</td>\n    </tr>\n    <tr>\n      <th>4449</th>\n      <td>8595348</td>\n      <td>지호한방삼계탕</td>\n      <td>40</td>\n      <td>1121584700</td>\n      <td>서울특별시</td>\n      <td>광진구</td>\n      <td>자양4동</td>\n      <td>2933.0</td>\n      <td>음식점&gt;한식&gt;육류,고기&gt;닭요리&gt;지호한방삼계탕</td>\n      <td>지호한방삼계탕</td>\n      <td>...</td>\n      <td>N</td>\n      <td>음식점</td>\n      <td>한식</td>\n      <td>육류,고기</td>\n      <td>닭요리</td>\n      <td>지호한방삼계탕</td>\n      <td>[{\"periodName\":\"영업기간\",\"periodEtc\":null,\"timeLi...</td>\n      <td>[5, 3, 5, 5, 5, 3, 5, 1]</td>\n      <td>,아주머니들이 너무 바쁘셔서 자리도 잘 정리가 안되어 있었어요 ㅠㅠ 맛은 쏘쏘..,...</td>\n      <td>[음식점, 한식, 육류, 고기, 닭요리, 지호한방삼계탕]</td>\n    </tr>\n    <tr>\n      <th>4452</th>\n      <td>10577180</td>\n      <td>엉터리생고기</td>\n      <td>75</td>\n      <td>1135064000</td>\n      <td>서울특별시</td>\n      <td>노원구</td>\n      <td>상계2동</td>\n      <td>3026.0</td>\n      <td>음식점&gt;한식&gt;육류,고기&gt;엉터리생고기</td>\n      <td>엉터리생고기</td>\n      <td>...</td>\n      <td>N</td>\n      <td>음식점</td>\n      <td>한식</td>\n      <td>육류,고기</td>\n      <td>엉터리생고기</td>\n      <td>NaN</td>\n      <td>[{\"periodName\":\"영업기간\",\"periodEtc\":null,\"timeLi...</td>\n      <td>[5, 5, 5]</td>\n      <td>한 번 날잡고 고기먹기 좋습니다서비스 훌륭하구요번창하세요!,항상 맛있습니다!! 사장...</td>\n      <td>[음식점, 한식, 육류, 고기, 엉터리생고기]</td>\n    </tr>\n    <tr>\n      <th>4453</th>\n      <td>10635428</td>\n      <td>옛골토성</td>\n      <td>125</td>\n      <td>1165066000</td>\n      <td>서울특별시</td>\n      <td>서초구</td>\n      <td>내곡동</td>\n      <td>1579.0</td>\n      <td>음식점&gt;한식&gt;육류,고기&gt;옛골토성</td>\n      <td>옛골토성</td>\n      <td>...</td>\n      <td>N</td>\n      <td>음식점</td>\n      <td>한식</td>\n      <td>육류,고기</td>\n      <td>옛골토성</td>\n      <td>NaN</td>\n      <td>[{\"periodName\":\"영업기간\",\"periodEtc\":null,\"timeLi...</td>\n      <td>[1, 1, 5, 5, 5, 5, 5, 5, 5, 5, 5, 5, 5, 5, 5, ...</td>\n      <td>와... 사장님 진짜 싸가지 없으시네요카드를 낚아채는 식당 주인은 처음밥 먹고 기분...</td>\n      <td>[음식점, 한식, 육류, 고기, 옛골토성]</td>\n    </tr>\n    <tr>\n      <th>4459</th>\n      <td>967792291</td>\n      <td>족발신선생</td>\n      <td>160</td>\n      <td>1150060300</td>\n      <td>서울특별시</td>\n      <td>강서구</td>\n      <td>가양1동</td>\n      <td>25408.0</td>\n      <td>음식점&gt;한식&gt;육류,고기&gt;족발,보쌈&gt;족발신선생</td>\n      <td>족발신선생</td>\n      <td>...</td>\n      <td>N</td>\n      <td>음식점</td>\n      <td>한식</td>\n      <td>육류,고기</td>\n      <td>족발,보쌈</td>\n      <td>족발신선생</td>\n      <td>NaN</td>\n      <td>[5, 5, 1, 5, 5]</td>\n      <td>다른 족발집 웨이팅하다가 너무 오래걸려서 여기로 왔어요.굉장히 만족스럽네요 ㅋㅋ 서...</td>\n      <td>[음식점, 한식, 육류, 고기, 족발, 보쌈, 족발신선생]</td>\n    </tr>\n    <tr>\n      <th>4474</th>\n      <td>8578219</td>\n      <td>춘향골남원추어탕</td>\n      <td>111</td>\n      <td>1171057000</td>\n      <td>서울특별시</td>\n      <td>송파구</td>\n      <td>오금동</td>\n      <td>3138.0</td>\n      <td>음식점&gt;한식&gt;해물,생선&gt;추어&gt;춘향골남원추어탕</td>\n      <td>춘향골남원추어탕</td>\n      <td>...</td>\n      <td>N</td>\n      <td>음식점</td>\n      <td>한식</td>\n      <td>해물,생선</td>\n      <td>추어</td>\n      <td>춘향골남원추어탕</td>\n      <td>[{\"periodName\":\"영업기간\",\"periodEtc\":null,\"timeLi...</td>\n      <td>[5, 5, 4, 5, 5, 5, 4, 5, 4, 5, 5, 5, 5, 4, 5, 5]</td>\n      <td>맛있고 양도 푸짐해요!,,추어탕,추어탕집 중 최고! 비린내 하나도 없고 깔끔하고 깊...</td>\n      <td>[음식점, 한식, 해물, 생선, 추어, 춘향골남원추어탕]</td>\n    </tr>\n  </tbody>\n</table>\n<p>1949 rows × 23 columns</p>\n</div>"
     },
     "execution_count": 20,
     "metadata": {},
     "output_type": "execute_result"
    }
   ],
   "source": [
    "filtered_df"
   ],
   "metadata": {
    "collapsed": false,
    "ExecuteTime": {
     "end_time": "2023-11-22T10:54:54.195401Z",
     "start_time": "2023-11-22T10:54:54.177002Z"
    }
   },
   "id": "b4270df5a5d8c968"
  },
  {
   "cell_type": "code",
   "execution_count": 7,
   "outputs": [
    {
     "name": "stderr",
     "output_type": "stream",
     "text": [
      "100%|██████████| 1949/1949 [00:00<00:00, 766138.57it/s]\n"
     ]
    }
   ],
   "source": [
    "food_shop_df =  filtered_df[filtered_df[\"categories\"].progress_apply(lambda x : \"음식점\" in x)]"
   ],
   "metadata": {
    "collapsed": false,
    "ExecuteTime": {
     "end_time": "2023-11-22T08:56:07.845252Z",
     "start_time": "2023-11-22T08:56:07.808612Z"
    }
   },
   "id": "70ae9219352410f9"
  },
  {
   "cell_type": "code",
   "execution_count": 22,
   "outputs": [
    {
     "data": {
      "text/plain": "          poi_id  poi_name  visit_count       hcode hname1 hname2 hname3  \\\n1838  2068929425   달콤왕가탕후루           87  1120057000  서울특별시    성동구   행당2동   \n1839  1649765943     랜디스도넛          145  1144071000  서울특별시    마포구    연남동   \n1840   802213706    올드페리도넛           75  1117068500  서울특별시    용산구    한남동   \n1842    17004790       구름떡          138  1165062100  서울특별시    서초구   방배4동   \n1843    18310200      백년화편          100  1174066000  서울특별시    강동구   성내3동   \n...          ...       ...          ...         ...    ...    ...    ...   \n4449     8595348   지호한방삼계탕           40  1121584700  서울특별시    광진구   자양4동   \n4452    10577180    엉터리생고기           75  1135064000  서울특별시    노원구   상계2동   \n4453    10635428      옛골토성          125  1165066000  서울특별시    서초구    내곡동   \n4459   967792291     족발신선생          160  1150060300  서울특별시    강서구   가양1동   \n4474     8578219  춘향골남원추어탕          111  1171057000  서울특별시    송파구    오금동   \n\n      cate_id                  fullpath  catename  ... name1 name2  name3  \\\n1838     46.0                    음식점>간식        간식  ...   음식점    간식    NaN   \n1839    791.0                 음식점>간식>도넛        도넛  ...   음식점    간식     도넛   \n1840    791.0                 음식점>간식>도넛        도넛  ...   음식점    간식     도넛   \n1842   1010.0               음식점>간식>떡,한과      떡,한과  ...   음식점    간식   떡,한과   \n1843   1010.0               음식점>간식>떡,한과      떡,한과  ...   음식점    간식   떡,한과   \n...       ...                       ...       ...  ...   ...   ...    ...   \n4449   2933.0  음식점>한식>육류,고기>닭요리>지호한방삼계탕   지호한방삼계탕  ...   음식점    한식  육류,고기   \n4452   3026.0       음식점>한식>육류,고기>엉터리생고기    엉터리생고기  ...   음식점    한식  육류,고기   \n4453   1579.0         음식점>한식>육류,고기>옛골토성      옛골토성  ...   음식점    한식  육류,고기   \n4459  25408.0  음식점>한식>육류,고기>족발,보쌈>족발신선생     족발신선생  ...   음식점    한식  육류,고기   \n4474   3138.0  음식점>한식>해물,생선>추어>춘향골남원추어탕  춘향골남원추어탕  ...   음식점    한식  해물,생선   \n\n       name4     name5                                          time_list  \\\n1838     NaN       NaN  [{\"periodName\":\"영업기간\",\"periodEtc\":null,\"timeLi...   \n1839     NaN       NaN  [{\"periodName\":\"영업기간\",\"periodEtc\":null,\"timeLi...   \n1840     NaN       NaN  [{\"periodName\":\"영업기간\",\"periodEtc\":null,\"timeLi...   \n1842     NaN       NaN  [{\"periodName\":\"영업기간\",\"periodEtc\":null,\"timeLi...   \n1843     NaN       NaN  [{\"periodName\":\"영업기간\",\"periodEtc\":null,\"timeLi...   \n...      ...       ...                                                ...   \n4449     닭요리   지호한방삼계탕  [{\"periodName\":\"영업기간\",\"periodEtc\":null,\"timeLi...   \n4452  엉터리생고기       NaN  [{\"periodName\":\"영업기간\",\"periodEtc\":null,\"timeLi...   \n4453    옛골토성       NaN  [{\"periodName\":\"영업기간\",\"periodEtc\":null,\"timeLi...   \n4459   족발,보쌈     족발신선생                                                NaN   \n4474      추어  춘향골남원추어탕  [{\"periodName\":\"영업기간\",\"periodEtc\":null,\"timeLi...   \n\n                                                 scores  \\\n1838                                       [5, 5, 4, 1]   \n1839                  [2, 3, 3, 2, 5, 5, 3, 5, 3, 5, 3]   \n1840  [3, 1, 5, 4, 5, 5, 5, 5, 4, 5, 4, 4, 1, 5, 4, ...   \n1842   [5, 5, 5, 4, 5, 5, 5, 4, 3, 2, 5, 5, 5, 5, 5, 4]   \n1843  [5, 5, 4, 5, 5, 3, 2, 5, 4, 3, 5, 5, 5, 5, 2, ...   \n...                                                 ...   \n4449                           [5, 3, 5, 5, 5, 3, 5, 1]   \n4452                                          [5, 5, 5]   \n4453  [1, 1, 5, 5, 5, 5, 5, 5, 5, 5, 5, 5, 5, 5, 5, ...   \n4459                                    [5, 5, 1, 5, 5]   \n4474   [5, 5, 4, 5, 5, 5, 4, 5, 4, 5, 5, 5, 5, 4, 5, 5]   \n\n                                                reviews  \\\n1838  정말 맛있습니다. 또 방문하겠읍니다.,가성비 짱짱!!! 우리동네 맛집입니다^^매일 ...   \n1839  맛이 없는 것보다 더 별로인건 맛이 변하는거 같아요. 오픈 했을 때부터 꾸준히 한 ...   \n1840  조금 헤비할 수 있지만 맛있는 도넛,테이크아웃만 가능해서 가져왔는데 집에서 열어보니...   \n1842  흑임자떡 정말 맛있어요,흑임자떡 도랏음 그냥 재질미침… ㅜㅜ내가 태어나서 먹은 떡중...   \n1843  밥알떡 너무 맛나요,맛있어요 밥알 찹살떡 최고예요~~~,매장에서 먹을순없고 매장에서...   \n...                                                 ...   \n4449  ,아주머니들이 너무 바쁘셔서 자리도 잘 정리가 안되어 있었어요 ㅠㅠ 맛은 쏘쏘..,...   \n4452  한 번 날잡고 고기먹기 좋습니다서비스 훌륭하구요번창하세요!,항상 맛있습니다!! 사장...   \n4453  와... 사장님 진짜 싸가지 없으시네요카드를 낚아채는 식당 주인은 처음밥 먹고 기분...   \n4459  다른 족발집 웨이팅하다가 너무 오래걸려서 여기로 왔어요.굉장히 만족스럽네요 ㅋㅋ 서...   \n4474  맛있고 양도 푸짐해요!,,추어탕,추어탕집 중 최고! 비린내 하나도 없고 깔끔하고 깊...   \n\n                            categories  \\\n1838                         [음식점, 간식]   \n1839                     [음식점, 간식, 도넛]   \n1840                     [음식점, 간식, 도넛]   \n1842                  [음식점, 간식, 떡, 한과]   \n1843                  [음식점, 간식, 떡, 한과]   \n...                                ...   \n4449   [음식점, 한식, 육류, 고기, 닭요리, 지호한방삼계탕]   \n4452         [음식점, 한식, 육류, 고기, 엉터리생고기]   \n4453           [음식점, 한식, 육류, 고기, 옛골토성]   \n4459  [음식점, 한식, 육류, 고기, 족발, 보쌈, 족발신선생]   \n4474   [음식점, 한식, 해물, 생선, 추어, 춘향골남원추어탕]   \n\n                                        coord  \n1838     [37.5578570846126, 127.031236852535]  \n1839      [37.562021063917, 126.924121920119]  \n1840     [37.5395997372027, 127.003009774096]  \n1842  [37.49162807551667, 126.98958560850245]  \n1843   [37.5232515505377, 127.13251425245822]  \n...                                       ...  \n4449     [37.5404441605802, 127.063310064083]  \n4452     [37.6583544968133, 127.064280422431]  \n4453                                   [0, 0]  \n4459                                   [0, 0]  \n4474     [37.5086702897923, 127.130380239334]  \n\n[1248 rows x 24 columns]",
      "text/html": "<div>\n<style scoped>\n    .dataframe tbody tr th:only-of-type {\n        vertical-align: middle;\n    }\n\n    .dataframe tbody tr th {\n        vertical-align: top;\n    }\n\n    .dataframe thead th {\n        text-align: right;\n    }\n</style>\n<table border=\"1\" class=\"dataframe\">\n  <thead>\n    <tr style=\"text-align: right;\">\n      <th></th>\n      <th>poi_id</th>\n      <th>poi_name</th>\n      <th>visit_count</th>\n      <th>hcode</th>\n      <th>hname1</th>\n      <th>hname2</th>\n      <th>hname3</th>\n      <th>cate_id</th>\n      <th>fullpath</th>\n      <th>catename</th>\n      <th>...</th>\n      <th>name1</th>\n      <th>name2</th>\n      <th>name3</th>\n      <th>name4</th>\n      <th>name5</th>\n      <th>time_list</th>\n      <th>scores</th>\n      <th>reviews</th>\n      <th>categories</th>\n      <th>coord</th>\n    </tr>\n  </thead>\n  <tbody>\n    <tr>\n      <th>1838</th>\n      <td>2068929425</td>\n      <td>달콤왕가탕후루</td>\n      <td>87</td>\n      <td>1120057000</td>\n      <td>서울특별시</td>\n      <td>성동구</td>\n      <td>행당2동</td>\n      <td>46.0</td>\n      <td>음식점&gt;간식</td>\n      <td>간식</td>\n      <td>...</td>\n      <td>음식점</td>\n      <td>간식</td>\n      <td>NaN</td>\n      <td>NaN</td>\n      <td>NaN</td>\n      <td>[{\"periodName\":\"영업기간\",\"periodEtc\":null,\"timeLi...</td>\n      <td>[5, 5, 4, 1]</td>\n      <td>정말 맛있습니다. 또 방문하겠읍니다.,가성비 짱짱!!! 우리동네 맛집입니다^^매일 ...</td>\n      <td>[음식점, 간식]</td>\n      <td>[37.5578570846126, 127.031236852535]</td>\n    </tr>\n    <tr>\n      <th>1839</th>\n      <td>1649765943</td>\n      <td>랜디스도넛</td>\n      <td>145</td>\n      <td>1144071000</td>\n      <td>서울특별시</td>\n      <td>마포구</td>\n      <td>연남동</td>\n      <td>791.0</td>\n      <td>음식점&gt;간식&gt;도넛</td>\n      <td>도넛</td>\n      <td>...</td>\n      <td>음식점</td>\n      <td>간식</td>\n      <td>도넛</td>\n      <td>NaN</td>\n      <td>NaN</td>\n      <td>[{\"periodName\":\"영업기간\",\"periodEtc\":null,\"timeLi...</td>\n      <td>[2, 3, 3, 2, 5, 5, 3, 5, 3, 5, 3]</td>\n      <td>맛이 없는 것보다 더 별로인건 맛이 변하는거 같아요. 오픈 했을 때부터 꾸준히 한 ...</td>\n      <td>[음식점, 간식, 도넛]</td>\n      <td>[37.562021063917, 126.924121920119]</td>\n    </tr>\n    <tr>\n      <th>1840</th>\n      <td>802213706</td>\n      <td>올드페리도넛</td>\n      <td>75</td>\n      <td>1117068500</td>\n      <td>서울특별시</td>\n      <td>용산구</td>\n      <td>한남동</td>\n      <td>791.0</td>\n      <td>음식점&gt;간식&gt;도넛</td>\n      <td>도넛</td>\n      <td>...</td>\n      <td>음식점</td>\n      <td>간식</td>\n      <td>도넛</td>\n      <td>NaN</td>\n      <td>NaN</td>\n      <td>[{\"periodName\":\"영업기간\",\"periodEtc\":null,\"timeLi...</td>\n      <td>[3, 1, 5, 4, 5, 5, 5, 5, 4, 5, 4, 4, 1, 5, 4, ...</td>\n      <td>조금 헤비할 수 있지만 맛있는 도넛,테이크아웃만 가능해서 가져왔는데 집에서 열어보니...</td>\n      <td>[음식점, 간식, 도넛]</td>\n      <td>[37.5395997372027, 127.003009774096]</td>\n    </tr>\n    <tr>\n      <th>1842</th>\n      <td>17004790</td>\n      <td>구름떡</td>\n      <td>138</td>\n      <td>1165062100</td>\n      <td>서울특별시</td>\n      <td>서초구</td>\n      <td>방배4동</td>\n      <td>1010.0</td>\n      <td>음식점&gt;간식&gt;떡,한과</td>\n      <td>떡,한과</td>\n      <td>...</td>\n      <td>음식점</td>\n      <td>간식</td>\n      <td>떡,한과</td>\n      <td>NaN</td>\n      <td>NaN</td>\n      <td>[{\"periodName\":\"영업기간\",\"periodEtc\":null,\"timeLi...</td>\n      <td>[5, 5, 5, 4, 5, 5, 5, 4, 3, 2, 5, 5, 5, 5, 5, 4]</td>\n      <td>흑임자떡 정말 맛있어요,흑임자떡 도랏음 그냥 재질미침… ㅜㅜ내가 태어나서 먹은 떡중...</td>\n      <td>[음식점, 간식, 떡, 한과]</td>\n      <td>[37.49162807551667, 126.98958560850245]</td>\n    </tr>\n    <tr>\n      <th>1843</th>\n      <td>18310200</td>\n      <td>백년화편</td>\n      <td>100</td>\n      <td>1174066000</td>\n      <td>서울특별시</td>\n      <td>강동구</td>\n      <td>성내3동</td>\n      <td>1010.0</td>\n      <td>음식점&gt;간식&gt;떡,한과</td>\n      <td>떡,한과</td>\n      <td>...</td>\n      <td>음식점</td>\n      <td>간식</td>\n      <td>떡,한과</td>\n      <td>NaN</td>\n      <td>NaN</td>\n      <td>[{\"periodName\":\"영업기간\",\"periodEtc\":null,\"timeLi...</td>\n      <td>[5, 5, 4, 5, 5, 3, 2, 5, 4, 3, 5, 5, 5, 5, 2, ...</td>\n      <td>밥알떡 너무 맛나요,맛있어요 밥알 찹살떡 최고예요~~~,매장에서 먹을순없고 매장에서...</td>\n      <td>[음식점, 간식, 떡, 한과]</td>\n      <td>[37.5232515505377, 127.13251425245822]</td>\n    </tr>\n    <tr>\n      <th>...</th>\n      <td>...</td>\n      <td>...</td>\n      <td>...</td>\n      <td>...</td>\n      <td>...</td>\n      <td>...</td>\n      <td>...</td>\n      <td>...</td>\n      <td>...</td>\n      <td>...</td>\n      <td>...</td>\n      <td>...</td>\n      <td>...</td>\n      <td>...</td>\n      <td>...</td>\n      <td>...</td>\n      <td>...</td>\n      <td>...</td>\n      <td>...</td>\n      <td>...</td>\n      <td>...</td>\n    </tr>\n    <tr>\n      <th>4449</th>\n      <td>8595348</td>\n      <td>지호한방삼계탕</td>\n      <td>40</td>\n      <td>1121584700</td>\n      <td>서울특별시</td>\n      <td>광진구</td>\n      <td>자양4동</td>\n      <td>2933.0</td>\n      <td>음식점&gt;한식&gt;육류,고기&gt;닭요리&gt;지호한방삼계탕</td>\n      <td>지호한방삼계탕</td>\n      <td>...</td>\n      <td>음식점</td>\n      <td>한식</td>\n      <td>육류,고기</td>\n      <td>닭요리</td>\n      <td>지호한방삼계탕</td>\n      <td>[{\"periodName\":\"영업기간\",\"periodEtc\":null,\"timeLi...</td>\n      <td>[5, 3, 5, 5, 5, 3, 5, 1]</td>\n      <td>,아주머니들이 너무 바쁘셔서 자리도 잘 정리가 안되어 있었어요 ㅠㅠ 맛은 쏘쏘..,...</td>\n      <td>[음식점, 한식, 육류, 고기, 닭요리, 지호한방삼계탕]</td>\n      <td>[37.5404441605802, 127.063310064083]</td>\n    </tr>\n    <tr>\n      <th>4452</th>\n      <td>10577180</td>\n      <td>엉터리생고기</td>\n      <td>75</td>\n      <td>1135064000</td>\n      <td>서울특별시</td>\n      <td>노원구</td>\n      <td>상계2동</td>\n      <td>3026.0</td>\n      <td>음식점&gt;한식&gt;육류,고기&gt;엉터리생고기</td>\n      <td>엉터리생고기</td>\n      <td>...</td>\n      <td>음식점</td>\n      <td>한식</td>\n      <td>육류,고기</td>\n      <td>엉터리생고기</td>\n      <td>NaN</td>\n      <td>[{\"periodName\":\"영업기간\",\"periodEtc\":null,\"timeLi...</td>\n      <td>[5, 5, 5]</td>\n      <td>한 번 날잡고 고기먹기 좋습니다서비스 훌륭하구요번창하세요!,항상 맛있습니다!! 사장...</td>\n      <td>[음식점, 한식, 육류, 고기, 엉터리생고기]</td>\n      <td>[37.6583544968133, 127.064280422431]</td>\n    </tr>\n    <tr>\n      <th>4453</th>\n      <td>10635428</td>\n      <td>옛골토성</td>\n      <td>125</td>\n      <td>1165066000</td>\n      <td>서울특별시</td>\n      <td>서초구</td>\n      <td>내곡동</td>\n      <td>1579.0</td>\n      <td>음식점&gt;한식&gt;육류,고기&gt;옛골토성</td>\n      <td>옛골토성</td>\n      <td>...</td>\n      <td>음식점</td>\n      <td>한식</td>\n      <td>육류,고기</td>\n      <td>옛골토성</td>\n      <td>NaN</td>\n      <td>[{\"periodName\":\"영업기간\",\"periodEtc\":null,\"timeLi...</td>\n      <td>[1, 1, 5, 5, 5, 5, 5, 5, 5, 5, 5, 5, 5, 5, 5, ...</td>\n      <td>와... 사장님 진짜 싸가지 없으시네요카드를 낚아채는 식당 주인은 처음밥 먹고 기분...</td>\n      <td>[음식점, 한식, 육류, 고기, 옛골토성]</td>\n      <td>[0, 0]</td>\n    </tr>\n    <tr>\n      <th>4459</th>\n      <td>967792291</td>\n      <td>족발신선생</td>\n      <td>160</td>\n      <td>1150060300</td>\n      <td>서울특별시</td>\n      <td>강서구</td>\n      <td>가양1동</td>\n      <td>25408.0</td>\n      <td>음식점&gt;한식&gt;육류,고기&gt;족발,보쌈&gt;족발신선생</td>\n      <td>족발신선생</td>\n      <td>...</td>\n      <td>음식점</td>\n      <td>한식</td>\n      <td>육류,고기</td>\n      <td>족발,보쌈</td>\n      <td>족발신선생</td>\n      <td>NaN</td>\n      <td>[5, 5, 1, 5, 5]</td>\n      <td>다른 족발집 웨이팅하다가 너무 오래걸려서 여기로 왔어요.굉장히 만족스럽네요 ㅋㅋ 서...</td>\n      <td>[음식점, 한식, 육류, 고기, 족발, 보쌈, 족발신선생]</td>\n      <td>[0, 0]</td>\n    </tr>\n    <tr>\n      <th>4474</th>\n      <td>8578219</td>\n      <td>춘향골남원추어탕</td>\n      <td>111</td>\n      <td>1171057000</td>\n      <td>서울특별시</td>\n      <td>송파구</td>\n      <td>오금동</td>\n      <td>3138.0</td>\n      <td>음식점&gt;한식&gt;해물,생선&gt;추어&gt;춘향골남원추어탕</td>\n      <td>춘향골남원추어탕</td>\n      <td>...</td>\n      <td>음식점</td>\n      <td>한식</td>\n      <td>해물,생선</td>\n      <td>추어</td>\n      <td>춘향골남원추어탕</td>\n      <td>[{\"periodName\":\"영업기간\",\"periodEtc\":null,\"timeLi...</td>\n      <td>[5, 5, 4, 5, 5, 5, 4, 5, 4, 5, 5, 5, 5, 4, 5, 5]</td>\n      <td>맛있고 양도 푸짐해요!,,추어탕,추어탕집 중 최고! 비린내 하나도 없고 깔끔하고 깊...</td>\n      <td>[음식점, 한식, 해물, 생선, 추어, 춘향골남원추어탕]</td>\n      <td>[37.5086702897923, 127.130380239334]</td>\n    </tr>\n  </tbody>\n</table>\n<p>1248 rows × 24 columns</p>\n</div>"
     },
     "execution_count": 22,
     "metadata": {},
     "output_type": "execute_result"
    }
   ],
   "source": [
    "food_shop_df"
   ],
   "metadata": {
    "collapsed": false,
    "ExecuteTime": {
     "end_time": "2023-11-22T16:33:44.013355Z",
     "start_time": "2023-11-22T16:33:43.988198Z"
    }
   },
   "id": "4dc56086fcd2d973"
  },
  {
   "cell_type": "code",
   "execution_count": 8,
   "outputs": [
    {
     "name": "stderr",
     "output_type": "stream",
     "text": [
      "100%|██████████| 1248/1248 [02:24<00:00,  8.62it/s]\n",
      "/var/folders/n5/wylv0r_d41lcmb6fxb5j2s9h0000gn/T/ipykernel_997/1648485347.py:2: SettingWithCopyWarning: \n",
      "A value is trying to be set on a copy of a slice from a DataFrame.\n",
      "Try using .loc[row_indexer,col_indexer] = value instead\n",
      "\n",
      "See the caveats in the documentation: https://pandas.pydata.org/pandas-docs/stable/user_guide/indexing.html#returning-a-view-versus-a-copy\n",
      "  food_shop_df['coord']=food_shop_df.progress_apply(km_api.get_detail_coord_with_hcode, axis=1)\n"
     ]
    },
    {
     "ename": "OSError",
     "evalue": "Cannot save file into a non-existent directory: '\"../data'",
     "output_type": "error",
     "traceback": [
      "\u001B[0;31m---------------------------------------------------------------------------\u001B[0m",
      "\u001B[0;31mOSError\u001B[0m                                   Traceback (most recent call last)",
      "Cell \u001B[0;32mIn[8], line 3\u001B[0m\n\u001B[1;32m      1\u001B[0m \u001B[38;5;28;01mfrom\u001B[39;00m \u001B[38;5;21;01mapi\u001B[39;00m \u001B[38;5;28;01mimport\u001B[39;00m km_api\n\u001B[1;32m      2\u001B[0m food_shop_df[\u001B[38;5;124m'\u001B[39m\u001B[38;5;124mcoord\u001B[39m\u001B[38;5;124m'\u001B[39m]\u001B[38;5;241m=\u001B[39mfood_shop_df\u001B[38;5;241m.\u001B[39mprogress_apply(km_api\u001B[38;5;241m.\u001B[39mget_detail_coord_with_hcode, axis\u001B[38;5;241m=\u001B[39m\u001B[38;5;241m1\u001B[39m)\n\u001B[0;32m----> 3\u001B[0m \u001B[43mdf\u001B[49m\u001B[38;5;241;43m.\u001B[39;49m\u001B[43mto_csv\u001B[49m\u001B[43m(\u001B[49m\u001B[38;5;124;43m'\u001B[39;49m\u001B[38;5;124;43m\"\u001B[39;49m\u001B[38;5;124;43m../data/poi_coord.csv\u001B[39;49m\u001B[38;5;124;43m'\u001B[39;49m\u001B[43m,\u001B[49m\u001B[43m \u001B[49m\u001B[43mindex\u001B[49m\u001B[38;5;241;43m=\u001B[39;49m\u001B[38;5;28;43;01mTrue\u001B[39;49;00m\u001B[43m)\u001B[49m\n",
      "File \u001B[0;32m~/Documents/GitHub/kamo-ai-hackerton/venv/lib/python3.9/site-packages/pandas/core/generic.py:3902\u001B[0m, in \u001B[0;36mNDFrame.to_csv\u001B[0;34m(self, path_or_buf, sep, na_rep, float_format, columns, header, index, index_label, mode, encoding, compression, quoting, quotechar, lineterminator, chunksize, date_format, doublequote, escapechar, decimal, errors, storage_options)\u001B[0m\n\u001B[1;32m   3891\u001B[0m df \u001B[38;5;241m=\u001B[39m \u001B[38;5;28mself\u001B[39m \u001B[38;5;28;01mif\u001B[39;00m \u001B[38;5;28misinstance\u001B[39m(\u001B[38;5;28mself\u001B[39m, ABCDataFrame) \u001B[38;5;28;01melse\u001B[39;00m \u001B[38;5;28mself\u001B[39m\u001B[38;5;241m.\u001B[39mto_frame()\n\u001B[1;32m   3893\u001B[0m formatter \u001B[38;5;241m=\u001B[39m DataFrameFormatter(\n\u001B[1;32m   3894\u001B[0m     frame\u001B[38;5;241m=\u001B[39mdf,\n\u001B[1;32m   3895\u001B[0m     header\u001B[38;5;241m=\u001B[39mheader,\n\u001B[0;32m   (...)\u001B[0m\n\u001B[1;32m   3899\u001B[0m     decimal\u001B[38;5;241m=\u001B[39mdecimal,\n\u001B[1;32m   3900\u001B[0m )\n\u001B[0;32m-> 3902\u001B[0m \u001B[38;5;28;01mreturn\u001B[39;00m \u001B[43mDataFrameRenderer\u001B[49m\u001B[43m(\u001B[49m\u001B[43mformatter\u001B[49m\u001B[43m)\u001B[49m\u001B[38;5;241;43m.\u001B[39;49m\u001B[43mto_csv\u001B[49m\u001B[43m(\u001B[49m\n\u001B[1;32m   3903\u001B[0m \u001B[43m    \u001B[49m\u001B[43mpath_or_buf\u001B[49m\u001B[43m,\u001B[49m\n\u001B[1;32m   3904\u001B[0m \u001B[43m    \u001B[49m\u001B[43mlineterminator\u001B[49m\u001B[38;5;241;43m=\u001B[39;49m\u001B[43mlineterminator\u001B[49m\u001B[43m,\u001B[49m\n\u001B[1;32m   3905\u001B[0m \u001B[43m    \u001B[49m\u001B[43msep\u001B[49m\u001B[38;5;241;43m=\u001B[39;49m\u001B[43msep\u001B[49m\u001B[43m,\u001B[49m\n\u001B[1;32m   3906\u001B[0m \u001B[43m    \u001B[49m\u001B[43mencoding\u001B[49m\u001B[38;5;241;43m=\u001B[39;49m\u001B[43mencoding\u001B[49m\u001B[43m,\u001B[49m\n\u001B[1;32m   3907\u001B[0m \u001B[43m    \u001B[49m\u001B[43merrors\u001B[49m\u001B[38;5;241;43m=\u001B[39;49m\u001B[43merrors\u001B[49m\u001B[43m,\u001B[49m\n\u001B[1;32m   3908\u001B[0m \u001B[43m    \u001B[49m\u001B[43mcompression\u001B[49m\u001B[38;5;241;43m=\u001B[39;49m\u001B[43mcompression\u001B[49m\u001B[43m,\u001B[49m\n\u001B[1;32m   3909\u001B[0m \u001B[43m    \u001B[49m\u001B[43mquoting\u001B[49m\u001B[38;5;241;43m=\u001B[39;49m\u001B[43mquoting\u001B[49m\u001B[43m,\u001B[49m\n\u001B[1;32m   3910\u001B[0m \u001B[43m    \u001B[49m\u001B[43mcolumns\u001B[49m\u001B[38;5;241;43m=\u001B[39;49m\u001B[43mcolumns\u001B[49m\u001B[43m,\u001B[49m\n\u001B[1;32m   3911\u001B[0m \u001B[43m    \u001B[49m\u001B[43mindex_label\u001B[49m\u001B[38;5;241;43m=\u001B[39;49m\u001B[43mindex_label\u001B[49m\u001B[43m,\u001B[49m\n\u001B[1;32m   3912\u001B[0m \u001B[43m    \u001B[49m\u001B[43mmode\u001B[49m\u001B[38;5;241;43m=\u001B[39;49m\u001B[43mmode\u001B[49m\u001B[43m,\u001B[49m\n\u001B[1;32m   3913\u001B[0m \u001B[43m    \u001B[49m\u001B[43mchunksize\u001B[49m\u001B[38;5;241;43m=\u001B[39;49m\u001B[43mchunksize\u001B[49m\u001B[43m,\u001B[49m\n\u001B[1;32m   3914\u001B[0m \u001B[43m    \u001B[49m\u001B[43mquotechar\u001B[49m\u001B[38;5;241;43m=\u001B[39;49m\u001B[43mquotechar\u001B[49m\u001B[43m,\u001B[49m\n\u001B[1;32m   3915\u001B[0m \u001B[43m    \u001B[49m\u001B[43mdate_format\u001B[49m\u001B[38;5;241;43m=\u001B[39;49m\u001B[43mdate_format\u001B[49m\u001B[43m,\u001B[49m\n\u001B[1;32m   3916\u001B[0m \u001B[43m    \u001B[49m\u001B[43mdoublequote\u001B[49m\u001B[38;5;241;43m=\u001B[39;49m\u001B[43mdoublequote\u001B[49m\u001B[43m,\u001B[49m\n\u001B[1;32m   3917\u001B[0m \u001B[43m    \u001B[49m\u001B[43mescapechar\u001B[49m\u001B[38;5;241;43m=\u001B[39;49m\u001B[43mescapechar\u001B[49m\u001B[43m,\u001B[49m\n\u001B[1;32m   3918\u001B[0m \u001B[43m    \u001B[49m\u001B[43mstorage_options\u001B[49m\u001B[38;5;241;43m=\u001B[39;49m\u001B[43mstorage_options\u001B[49m\u001B[43m,\u001B[49m\n\u001B[1;32m   3919\u001B[0m \u001B[43m\u001B[49m\u001B[43m)\u001B[49m\n",
      "File \u001B[0;32m~/Documents/GitHub/kamo-ai-hackerton/venv/lib/python3.9/site-packages/pandas/io/formats/format.py:1152\u001B[0m, in \u001B[0;36mDataFrameRenderer.to_csv\u001B[0;34m(self, path_or_buf, encoding, sep, columns, index_label, mode, compression, quoting, quotechar, lineterminator, chunksize, date_format, doublequote, escapechar, errors, storage_options)\u001B[0m\n\u001B[1;32m   1131\u001B[0m     created_buffer \u001B[38;5;241m=\u001B[39m \u001B[38;5;28;01mFalse\u001B[39;00m\n\u001B[1;32m   1133\u001B[0m csv_formatter \u001B[38;5;241m=\u001B[39m CSVFormatter(\n\u001B[1;32m   1134\u001B[0m     path_or_buf\u001B[38;5;241m=\u001B[39mpath_or_buf,\n\u001B[1;32m   1135\u001B[0m     lineterminator\u001B[38;5;241m=\u001B[39mlineterminator,\n\u001B[0;32m   (...)\u001B[0m\n\u001B[1;32m   1150\u001B[0m     formatter\u001B[38;5;241m=\u001B[39m\u001B[38;5;28mself\u001B[39m\u001B[38;5;241m.\u001B[39mfmt,\n\u001B[1;32m   1151\u001B[0m )\n\u001B[0;32m-> 1152\u001B[0m \u001B[43mcsv_formatter\u001B[49m\u001B[38;5;241;43m.\u001B[39;49m\u001B[43msave\u001B[49m\u001B[43m(\u001B[49m\u001B[43m)\u001B[49m\n\u001B[1;32m   1154\u001B[0m \u001B[38;5;28;01mif\u001B[39;00m created_buffer:\n\u001B[1;32m   1155\u001B[0m     \u001B[38;5;28;01massert\u001B[39;00m \u001B[38;5;28misinstance\u001B[39m(path_or_buf, StringIO)\n",
      "File \u001B[0;32m~/Documents/GitHub/kamo-ai-hackerton/venv/lib/python3.9/site-packages/pandas/io/formats/csvs.py:247\u001B[0m, in \u001B[0;36mCSVFormatter.save\u001B[0;34m(self)\u001B[0m\n\u001B[1;32m    243\u001B[0m \u001B[38;5;250m\u001B[39m\u001B[38;5;124;03m\"\"\"\u001B[39;00m\n\u001B[1;32m    244\u001B[0m \u001B[38;5;124;03mCreate the writer & save.\u001B[39;00m\n\u001B[1;32m    245\u001B[0m \u001B[38;5;124;03m\"\"\"\u001B[39;00m\n\u001B[1;32m    246\u001B[0m \u001B[38;5;66;03m# apply compression and byte/text conversion\u001B[39;00m\n\u001B[0;32m--> 247\u001B[0m \u001B[38;5;28;01mwith\u001B[39;00m \u001B[43mget_handle\u001B[49m\u001B[43m(\u001B[49m\n\u001B[1;32m    248\u001B[0m \u001B[43m    \u001B[49m\u001B[38;5;28;43mself\u001B[39;49m\u001B[38;5;241;43m.\u001B[39;49m\u001B[43mfilepath_or_buffer\u001B[49m\u001B[43m,\u001B[49m\n\u001B[1;32m    249\u001B[0m \u001B[43m    \u001B[49m\u001B[38;5;28;43mself\u001B[39;49m\u001B[38;5;241;43m.\u001B[39;49m\u001B[43mmode\u001B[49m\u001B[43m,\u001B[49m\n\u001B[1;32m    250\u001B[0m \u001B[43m    \u001B[49m\u001B[43mencoding\u001B[49m\u001B[38;5;241;43m=\u001B[39;49m\u001B[38;5;28;43mself\u001B[39;49m\u001B[38;5;241;43m.\u001B[39;49m\u001B[43mencoding\u001B[49m\u001B[43m,\u001B[49m\n\u001B[1;32m    251\u001B[0m \u001B[43m    \u001B[49m\u001B[43merrors\u001B[49m\u001B[38;5;241;43m=\u001B[39;49m\u001B[38;5;28;43mself\u001B[39;49m\u001B[38;5;241;43m.\u001B[39;49m\u001B[43merrors\u001B[49m\u001B[43m,\u001B[49m\n\u001B[1;32m    252\u001B[0m \u001B[43m    \u001B[49m\u001B[43mcompression\u001B[49m\u001B[38;5;241;43m=\u001B[39;49m\u001B[38;5;28;43mself\u001B[39;49m\u001B[38;5;241;43m.\u001B[39;49m\u001B[43mcompression\u001B[49m\u001B[43m,\u001B[49m\n\u001B[1;32m    253\u001B[0m \u001B[43m    \u001B[49m\u001B[43mstorage_options\u001B[49m\u001B[38;5;241;43m=\u001B[39;49m\u001B[38;5;28;43mself\u001B[39;49m\u001B[38;5;241;43m.\u001B[39;49m\u001B[43mstorage_options\u001B[49m\u001B[43m,\u001B[49m\n\u001B[1;32m    254\u001B[0m \u001B[43m\u001B[49m\u001B[43m)\u001B[49m \u001B[38;5;28;01mas\u001B[39;00m handles:\n\u001B[1;32m    255\u001B[0m     \u001B[38;5;66;03m# Note: self.encoding is irrelevant here\u001B[39;00m\n\u001B[1;32m    256\u001B[0m     \u001B[38;5;28mself\u001B[39m\u001B[38;5;241m.\u001B[39mwriter \u001B[38;5;241m=\u001B[39m csvlib\u001B[38;5;241m.\u001B[39mwriter(\n\u001B[1;32m    257\u001B[0m         handles\u001B[38;5;241m.\u001B[39mhandle,\n\u001B[1;32m    258\u001B[0m         lineterminator\u001B[38;5;241m=\u001B[39m\u001B[38;5;28mself\u001B[39m\u001B[38;5;241m.\u001B[39mlineterminator,\n\u001B[0;32m   (...)\u001B[0m\n\u001B[1;32m    263\u001B[0m         quotechar\u001B[38;5;241m=\u001B[39m\u001B[38;5;28mself\u001B[39m\u001B[38;5;241m.\u001B[39mquotechar,\n\u001B[1;32m    264\u001B[0m     )\n\u001B[1;32m    266\u001B[0m     \u001B[38;5;28mself\u001B[39m\u001B[38;5;241m.\u001B[39m_save()\n",
      "File \u001B[0;32m~/Documents/GitHub/kamo-ai-hackerton/venv/lib/python3.9/site-packages/pandas/io/common.py:739\u001B[0m, in \u001B[0;36mget_handle\u001B[0;34m(path_or_buf, mode, encoding, compression, memory_map, is_text, errors, storage_options)\u001B[0m\n\u001B[1;32m    737\u001B[0m \u001B[38;5;66;03m# Only for write methods\u001B[39;00m\n\u001B[1;32m    738\u001B[0m \u001B[38;5;28;01mif\u001B[39;00m \u001B[38;5;124m\"\u001B[39m\u001B[38;5;124mr\u001B[39m\u001B[38;5;124m\"\u001B[39m \u001B[38;5;129;01mnot\u001B[39;00m \u001B[38;5;129;01min\u001B[39;00m mode \u001B[38;5;129;01mand\u001B[39;00m is_path:\n\u001B[0;32m--> 739\u001B[0m     \u001B[43mcheck_parent_directory\u001B[49m\u001B[43m(\u001B[49m\u001B[38;5;28;43mstr\u001B[39;49m\u001B[43m(\u001B[49m\u001B[43mhandle\u001B[49m\u001B[43m)\u001B[49m\u001B[43m)\u001B[49m\n\u001B[1;32m    741\u001B[0m \u001B[38;5;28;01mif\u001B[39;00m compression:\n\u001B[1;32m    742\u001B[0m     \u001B[38;5;28;01mif\u001B[39;00m compression \u001B[38;5;241m!=\u001B[39m \u001B[38;5;124m\"\u001B[39m\u001B[38;5;124mzstd\u001B[39m\u001B[38;5;124m\"\u001B[39m:\n\u001B[1;32m    743\u001B[0m         \u001B[38;5;66;03m# compression libraries do not like an explicit text-mode\u001B[39;00m\n",
      "File \u001B[0;32m~/Documents/GitHub/kamo-ai-hackerton/venv/lib/python3.9/site-packages/pandas/io/common.py:604\u001B[0m, in \u001B[0;36mcheck_parent_directory\u001B[0;34m(path)\u001B[0m\n\u001B[1;32m    602\u001B[0m parent \u001B[38;5;241m=\u001B[39m Path(path)\u001B[38;5;241m.\u001B[39mparent\n\u001B[1;32m    603\u001B[0m \u001B[38;5;28;01mif\u001B[39;00m \u001B[38;5;129;01mnot\u001B[39;00m parent\u001B[38;5;241m.\u001B[39mis_dir():\n\u001B[0;32m--> 604\u001B[0m     \u001B[38;5;28;01mraise\u001B[39;00m \u001B[38;5;167;01mOSError\u001B[39;00m(\u001B[38;5;124mrf\u001B[39m\u001B[38;5;124m\"\u001B[39m\u001B[38;5;124mCannot save file into a non-existent directory: \u001B[39m\u001B[38;5;124m'\u001B[39m\u001B[38;5;132;01m{\u001B[39;00mparent\u001B[38;5;132;01m}\u001B[39;00m\u001B[38;5;124m'\u001B[39m\u001B[38;5;124m\"\u001B[39m)\n",
      "\u001B[0;31mOSError\u001B[0m: Cannot save file into a non-existent directory: '\"../data'"
     ]
    }
   ],
   "source": [
    "from api import km_api\n",
    "food_shop_df['coord']=food_shop_df.progress_apply(km_api.get_detail_coord_with_hcode, axis=1)\n"
   ],
   "metadata": {
    "collapsed": false,
    "ExecuteTime": {
     "end_time": "2023-11-22T08:58:34.559709Z",
     "start_time": "2023-11-22T08:56:09.113509Z"
    }
   },
   "id": "da531a2f9556b309"
  },
  {
   "cell_type": "markdown",
   "source": [
    "food_shop_df.to_csv('../data/poi_coord.csv', index=True)"
   ],
   "metadata": {
    "collapsed": false
   },
   "id": "a0e69d33fb3a160"
  },
  {
   "cell_type": "code",
   "execution_count": 10,
   "outputs": [],
   "source": [
    "food_shop_df.to_csv('../data/poi_coord.csv', index=True)"
   ],
   "metadata": {
    "collapsed": false,
    "ExecuteTime": {
     "end_time": "2023-11-22T09:06:30.044832Z",
     "start_time": "2023-11-22T09:06:30.000829Z"
    }
   },
   "id": "8f10909c022cb82d"
  },
  {
   "cell_type": "code",
   "execution_count": 15,
   "outputs": [
    {
     "data": {
      "text/plain": "['간식',\n '도넛',\n '떡,한과',\n '아이스크림',\n '제과,베이커리',\n '기사식당',\n '분식',\n '떡볶이',\n '뷔페',\n '고기뷔페',\n '한식뷔페',\n '해산물뷔페',\n '샐러드',\n '샤브샤브',\n '술집',\n '실내포장마차',\n '와인바',\n '일본식주점',\n '칵테일바',\n '호프,요리주점',\n '아시아음식',\n '동남아음식',\n '베트남음식',\n '태국음식',\n '양식',\n '멕시칸,브라질',\n '스테이크,립',\n '이탈리안',\n '피자',\n '바닷가재',\n '햄버거',\n '일식',\n '돈까스,우동',\n '일본식라면',\n '일식집',\n '참치회',\n '초밥,롤',\n '중식',\n '양꼬치',\n '중국요리',\n '치킨',\n '카페',\n '다방',\n '커피전문점',\n '테마카페',\n '갤러리카페',\n '디저트카페',\n '무인카페',\n '북카페',\n '애견카페',\n '패밀리레스토랑',\n '패스트푸드',\n '샌드위치',\n '푸드코트',\n '퓨전요리',\n '퓨전일식',\n '퓨전중식',\n '퓨전한식',\n '한식',\n '감자탕',\n '곰탕',\n '국밥',\n '국수',\n '칼국수',\n '냉면',\n '두부전문점',\n '사철탕,영양탕',\n '설렁탕',\n '수제비',\n '순대',\n '쌈밥',\n '육류,고기',\n '갈비',\n '곱창,막창',\n '닭요리',\n '삼계탕',\n '불고기,두루치기',\n '삼겹살',\n '오리',\n '족발,보쌈',\n '찌개,전골',\n '한정식',\n '해물,생선',\n '게,대게',\n '매운탕,해물탕',\n '복어',\n '아구',\n '장어',\n '조개',\n '추어',\n '회',\n '해장국',\n '김영모과자점',\n '아티제',\n '코코호도',\n '파리바게뜨',\n '등촌샤브칼국수',\n '채선당',\n '금별맥주',\n '범맥주',\n '미분당',\n '도미노피자',\n '피자마루',\n '피자스쿨',\n '역전우동0410',\n '깐부치킨',\n '노랑통닭',\n '바른치킨',\n '치킨마루',\n '페리카나',\n '오설록 티하우스',\n '더벤티',\n '빽다방',\n '스타벅스',\n '읍천리382',\n '이디야커피',\n '카페051',\n '커피빈',\n '탐앤탐스',\n '투썸플레이스',\n '파스쿠찌',\n '폴바셋',\n '할리스',\n '설빙',\n '매드포갈릭',\n '빕스',\n '아웃백스테이크하우스',\n '아웃백스테이크하우스딜리버리',\n '애슐리',\n '롯데리아',\n '맥도날드',\n '모스버거',\n '버거킹',\n '망향비빔국수',\n '소호정',\n '신선설농탕',\n '담소소사골순대육개장',\n '오봉집',\n '명륜진사갈비',\n '송추가마골',\n '고반식당',\n '연타발',\n '오발탄',\n '봉추찜닭',\n '지호한방삼계탕',\n '엉터리생고기',\n '옛골토성',\n '족발신선생',\n '춘향골남원추어탕']"
     },
     "execution_count": 15,
     "metadata": {},
     "output_type": "execute_result"
    }
   ],
   "source": [
    "food_shop_df['catename'].unique().tolist()"
   ],
   "metadata": {
    "collapsed": false,
    "ExecuteTime": {
     "end_time": "2023-11-22T09:48:37.343761Z",
     "start_time": "2023-11-22T09:48:37.337577Z"
    }
   },
   "id": "b3e299bb4928c940"
  },
  {
   "cell_type": "code",
   "execution_count": 9,
   "outputs": [
    {
     "name": "stderr",
     "output_type": "stream",
     "text": [
      "100%|██████████| 1248/1248 [00:00<00:00, 347806.74it/s]\n"
     ]
    },
    {
     "data": {
      "text/plain": "1838     3211.535243\n1839     7387.893207\n1840        0.000000\n1842     5464.033509\n1843    11563.464931\n            ...     \n4449    10000.000000\n4452    10000.000000\n4453    10000.000000\n4459    10000.000000\n4474    10000.000000\nName: coord, Length: 1248, dtype: float64"
     },
     "execution_count": 9,
     "metadata": {},
     "output_type": "execute_result"
    }
   ],
   "source": [
    "food_shop_df['coord'].progress_apply(km_api.get_distance, coord2 = (37.5395997372027,127.003009774096))"
   ],
   "metadata": {
    "collapsed": false,
    "ExecuteTime": {
     "end_time": "2023-11-22T08:29:04.013556Z",
     "start_time": "2023-11-22T08:29:04.001999Z"
    }
   },
   "id": "5b554500e9a4e6dd"
  },
  {
   "cell_type": "markdown",
   "source": [
    "### 모델 선언"
   ],
   "metadata": {
    "collapsed": false
   },
   "id": "5be1baaaab4252d7"
  },
  {
   "cell_type": "code",
   "execution_count": 16,
   "outputs": [],
   "source": [
    "from langchain.schema import SystemMessage, HumanMessage, AIMessage\n",
    "\n",
    "review_summarize_system_template = \"\"\"\n",
    "너는 \"리뷰묶음\"을 받아서 리뷰를 요약해주는 AI모델이야.\n",
    "너는 입력으로 가게의 \"리뷰묶음\" 정보를 입력받아서 해당 리뷰를 요약해주는 문장을 생성해야 해.\n",
    "이때 리뷰에서 부정적인 내용, 가게에 좋지 않은 내용, 기분이 나쁜 내용들은 절대로 리뷰 내용에 포함하지 말아야 해.\n",
    "또한 \"리뷰묶음\"에 포함되어 있지 않았해|던 정보는 포함되면 안 돼.\n",
    "그리고 추가적으로 리뷰 요약과 리뷰 내용을 통해 다음과 같은 내용 중 한 가지를 유츄해 선택해야 해\n",
    "- \"사람들이 주로 방문하는 시간대\", \"사람들이 주로 같이 방문하는 인원\", \"식당의 분위기\", \"식당 메뉴\"\n",
    "이때 주어진 리뷰를 기반으로 위의 정보들을 알 수 없는 경우에는 \"알 수 없음\"으로 응답해야 해\n",
    "\"\"\"\n",
    "\n",
    "review_summarize_question_example1 = \"\"\"\n",
    "[입력] :\n",
    "- 가게 이름 : 달콤왕가탕후루\n",
    "- 가게 위치 : 서울특별시 성동구 행당2동\n",
    "- 카테고리 : [음식점, 간식]\n",
    "- 리뷰 묶음 : 정말 맛있습니다. 또 방문하겠읍니다.,가성비 짱짱!!! 우리동네 맛집입니다^^매일 가고 싶네요 ^^,귤탕후루, 체리탕후루 중 귤탕후루가 맛있었당!,딸기탕후루 무슨 일입니까 진짜 ㅋㅋ이렇게 파실거면 가격을 내려야죠. 장난하십니까.딸기가 미니어쳐 수준  블루베리 크기만해요.너무나도 실망스럽습니다.\n",
    "\"\"\"\n",
    "\n",
    "review_summarize_answer_example1 = \"\"\"\n",
    "- 리뷰 요약 : 달콤왕가탕후루는 서울특별시 성동구에 위치하며 다양한 탕후루를 파는 가게이며, 동네에서 싸고 맛있는 가게로 소문이 나있습니다. 특히 귤탕후루가 맛있다고 합니다.\n",
    "- 시간대 : 알 수 없음\n",
    "- 인원 : 알 수 없음\n",
    "- 분위기 : 알 수 없음\n",
    "- 식당 메뉴 : 귤탕후루, 체리탕후루\n",
    "\"\"\"\n",
    "\n",
    "review_summarize_question_example2 = \"\"\"\n",
    "[입력] :\n",
    "- 가게 이름 : 족발신선생\n",
    "- 가게 위치 : 서울특별시 강서구 가양1동\n",
    "- 카테고리 : [음식점, 한식, 육류, 고기, 족발, 보쌈, 족발신선생]\n",
    "- 리뷰 묶음 : 다른 족발집 웨이팅하다가 너무 오래걸려서 여기로 왔어요.굉장히 만족스럽네요 ㅋㅋ 서비스라던가 메뉴 퀄리티 모두 좋습니다. 잘 먹고 가용 🫶,족발 정말 맛있어요.,여자직원들 싸가지없음,족발 맛있고,, 진짜 양 미텼고.. 서비스로 주는 어리굴젓 진짜 너무 맛있음 ㅠ 살코기 많은것 보다 껍질이 더 많은 느낌이라 쫄깃한 껍질을 더 좋아하면 가셔욤!! 사이드디쉬로 나온 짬뽕 순두부도 다 먹지 못할정도로 양이 많았어요~~강추~~,\n",
    "\"\"\"\n",
    "\n",
    "review_summarize_answer_example2 = \"\"\"\n",
    "- 리뷰 요약 : 족발신선생님 서울특별시 강서구 가양1동에 위치하는 한식 음식점이며 주로 족발과 보쌈을 판매하는 식당입니다. 다른 매장에 비해 웨이팅 없이 빠르게 입장할 수 있으며 서비스 및 퀄리티가 매우 좋습니다. 음식의 양 또한 많으며 특시 서비스로 주는 어리굴젓이 맛있다고 합니다.\n",
    "- 시간대 : 알 수 없음\n",
    "- 인원 : 알 수 없음\n",
    "- 분위기 : 알 수 없음\n",
    "- 식당 메뉴 : 족발, 짬뽕 순두부, 보쌈\n",
    "\"\"\"\n",
    "\n",
    "user_input = \"\"\"\n",
    "[입력] :\n",
    "- 가게 이름 : {store_name}\n",
    "- 가게 위치 : {store_location}\n",
    "- 카테고리 : {category}\n",
    "- 리뷰 묶음 : {reviews}\n",
    "\"\"\""
   ],
   "metadata": {
    "collapsed": false,
    "ExecuteTime": {
     "end_time": "2023-11-22T09:59:35.026720Z",
     "start_time": "2023-11-22T09:59:35.015428Z"
    }
   },
   "id": "e5b957e1edc536b6"
  },
  {
   "cell_type": "code",
   "execution_count": 17,
   "outputs": [
    {
     "data": {
      "text/plain": "poi_id                                                1298505567\npoi_name                                                    섭생정식\nvisit_count                                                   42\nhcode                                                 1132051500\nhname1                                                     서울특별시\nhname2                                                       도봉구\nhname3                                                       창5동\ncate_id                                                    124.0\nfullpath                                                  음식점>한식\ncatename                                                      한식\ncatetype                                                       C\napicatename                                                  음식점\nadultflag                                                      N\nlandmarkyn                                                     N\nname1                                                        음식점\nname2                                                         한식\nname3                                                        NaN\nname4                                                        NaN\nname5                                                        NaN\ntime_list                                                    NaN\nscores                                     [1, 5, 5, 5, 5, 5, 5]\nreviews        정말 최악의 경험을 하였습니다. 음식끼리 나오는 텀이 너무 길며 아무리 직원분을 불...\ncategories                                             [음식점, 한식]\ncoord                    [37.65134638262122, 127.04550653517428]\nName: 2916, dtype: object"
     },
     "execution_count": 17,
     "metadata": {},
     "output_type": "execute_result"
    }
   ],
   "source": [
    "sample = food_shop_df.loc[2916]\n",
    "sample"
   ],
   "metadata": {
    "collapsed": false,
    "ExecuteTime": {
     "end_time": "2023-11-22T09:59:36.241817Z",
     "start_time": "2023-11-22T09:59:36.238039Z"
    }
   },
   "id": "4604ba307ef04ccd"
  },
  {
   "cell_type": "code",
   "execution_count": 18,
   "outputs": [
    {
     "name": "stderr",
     "output_type": "stream",
     "text": [
      "/Users/frankie.gg/Documents/GitHub/kamo-ai-hackerton/venv/lib/python3.9/site-packages/langchain/chat_models/azure_openai.py:155: UserWarning: As of openai>=1.0.0, Azure endpoints should be specified via the `azure_endpoint` param not `openai_api_base` (or alias `base_url`). Updating `openai_api_base` from https://kmt-oai-uk-37.openai.azure.com/ to https://kmt-oai-uk-37.openai.azure.com/openai.\n",
      "  warnings.warn(\n",
      "/Users/frankie.gg/Documents/GitHub/kamo-ai-hackerton/venv/lib/python3.9/site-packages/langchain/chat_models/azure_openai.py:162: UserWarning: As of openai>=1.0.0, if `deployment_name` (or alias `azure_deployment`) is specified then `openai_api_base` (or alias `base_url`) should not be. Instead use `deployment_name` (or alias `azure_deployment`) and `azure_endpoint`.\n",
      "  warnings.warn(\n",
      "/Users/frankie.gg/Documents/GitHub/kamo-ai-hackerton/venv/lib/python3.9/site-packages/langchain/chat_models/azure_openai.py:170: UserWarning: As of openai>=1.0.0, if `openai_api_base` (or alias `base_url`) is specified it is expected to be of the form https://example-resource.azure.openai.com/openai/deployments/example-deployment. Updating https://kmt-oai-uk-37.openai.azure.com/ to https://kmt-oai-uk-37.openai.azure.com/openai.\n",
      "  warnings.warn(\n"
     ]
    }
   ],
   "source": [
    "chat = AzureChatOpenAI(azure_deployment=\"gpt-4\")\n",
    "\n",
    "prompt = ChatPromptTemplate.from_messages(\n",
    "    [\n",
    "        SystemMessage(content=review_summarize_system_template),\n",
    "        HumanMessage(content=review_summarize_question_example1),\n",
    "        AIMessage(content=review_summarize_answer_example1),\n",
    "        HumanMessage(content=review_summarize_question_example2),\n",
    "        AIMessage(content=review_summarize_answer_example2),\n",
    "        HumanMessage(content=user_input.format(store_name=sample[\"poi_name\"], store_location=\" \".join(\n",
    "            [sample[\"hname1\"], sample[\"hname2\"], sample[\"hname3\"]]), category=sample[\"categories\"],\n",
    "                                               reviews=sample[\"reviews\"])),\n",
    "    ]\n",
    ")\n",
    "\n",
    "chain = prompt | chat"
   ],
   "metadata": {
    "collapsed": false,
    "ExecuteTime": {
     "end_time": "2023-11-22T09:59:39.958399Z",
     "start_time": "2023-11-22T09:59:39.795307Z"
    }
   },
   "id": "1804fa0dffa9087d"
  },
  {
   "cell_type": "code",
   "execution_count": 19,
   "outputs": [
    {
     "data": {
      "text/plain": "AIMessage(content='- 리뷰 요약 : 섭생정식은 서울특별시 도봉구 창5동에 위치한 한식 음식점으로, 신선한 해산물을 사용한 요리가 특징입니다. 해물탕, 산낙지 연포탕, 파전 등의 메뉴가 인기 있으며, 조미료를 사용하지 않고 건강한 맛을 내는 것으로 평가받고 있습니다. 손님들에게 친절하게 설명해 주며, 해산물의 신선도와 훌륭한 퀄리티에도 불구하고 가격 대비 만족도가 높은 것으로 보입니다.\\n- 시간대 : 알 수 없음\\n- 인원 : 알 수 없음\\n- 분위기 : 알 수 없음\\n- 식당 메뉴 : 해물탕, 산낙지 연포탕, 파전')"
     },
     "execution_count": 19,
     "metadata": {},
     "output_type": "execute_result"
    }
   ],
   "source": [
    "chain.invoke({})"
   ],
   "metadata": {
    "collapsed": false,
    "ExecuteTime": {
     "end_time": "2023-11-22T09:59:56.455919Z",
     "start_time": "2023-11-22T09:59:48.409415Z"
    }
   },
   "id": "f3ad0a995cf4cb1e"
  },
  {
   "cell_type": "code",
   "execution_count": null,
   "outputs": [],
   "source": [],
   "metadata": {
    "collapsed": false
   },
   "id": "f64593147faeae18"
  }
 ],
 "metadata": {
  "kernelspec": {
   "display_name": "Python 3",
   "language": "python",
   "name": "python3"
  },
  "language_info": {
   "codemirror_mode": {
    "name": "ipython",
    "version": 2
   },
   "file_extension": ".py",
   "mimetype": "text/x-python",
   "name": "python",
   "nbconvert_exporter": "python",
   "pygments_lexer": "ipython2",
   "version": "2.7.6"
  }
 },
 "nbformat": 4,
 "nbformat_minor": 5
}
